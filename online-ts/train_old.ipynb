{
 "cells": [
  {
   "cell_type": "markdown",
   "metadata": {},
   "source": [
    "# train"
   ]
  },
  {
   "cell_type": "code",
   "execution_count": 6,
   "metadata": {},
   "outputs": [],
   "source": [
    "import os\n",
    "os.environ[\"KMP_DUPLICATE_LIB_OK\"]=\"TRUE\""
   ]
  },
  {
   "cell_type": "code",
   "execution_count": 7,
   "metadata": {},
   "outputs": [],
   "source": [
    "from rl_env_inc import TrajComp\n",
    "from rl_brain import PolicyGradient\n",
    "import matplotlib.pyplot as plt\n",
    "import time\n",
    "from tqdm import tqdm\n",
    "\n",
    "def run_online(env, RL, ratio, elist): # Validation\n",
    "    eva = []\n",
    "    for episode in elist:\n",
    "        buffer_size = int(ratio*len(env.ori_traj_set[episode]))\n",
    "        if buffer_size < 3:\n",
    "            continue\n",
    "        steps, observation = env.reset(episode, buffer_size)\n",
    "        for index in range(buffer_size, steps):\n",
    "            if index == steps - 1:\n",
    "                done = True\n",
    "            else:\n",
    "                done = False\n",
    "            action = RL.pro_choose_action(observation)\n",
    "            observation_, _ = env.step(episode, action, index, done, 'V') #'T' means Training, and 'V' means Validation\n",
    "            observation = observation_\n",
    "        eva.append(env.output(episode, 'V')) #'T' means Training, 'V' means Validation, and 'V-VIS' for visualization on Validation\n",
    "    return eva\n",
    "        \n",
    "def run_comp(env, RL, Round, traj_amount, valid_amount, show_time, ratio): #Training\n",
    "    check = 999999\n",
    "    tra_av_errs = []#放的是每50回合训练集上的平均误差\n",
    "    val_av_errs = []#放的是每50回合验证集上的平均误差\n",
    "    for r in range(Round):\n",
    "        env.shuffle()\n",
    "        show_time = 50\n",
    "        episode = 0\n",
    "        for i in range(0, traj_amount, show_time):\n",
    "            train_ep_errs = []\n",
    "            start_t = time.time()\n",
    "            for _ in tqdm(range(show_time), desc=\"[{}/{}]\".format(min(i+show_time,traj_amount),traj_amount),ncols=100):\n",
    "                buffer_size = int(ratio*len(env.ori_traj_set[episode]))\n",
    "                # extreme cases\n",
    "                if buffer_size < 3:\n",
    "                    episode += 1\n",
    "                    continue\n",
    "                steps, state = env.reset(episode, buffer_size)#初始化状态值，返回轨迹点数和有序列表前k个状态值\n",
    "                for index in range(buffer_size, steps):#从第一次缓存外第一个点遍历到最后一个点\n",
    "                    if index == steps - 1:#如果已经是轨迹最后一个点\n",
    "                        done = True\n",
    "                    else:\n",
    "                        done = False\n",
    "                    action = RL.pro_choose_action(state)#状态输出到神经网络输出动作的概率分布，按概率采样一个动作\n",
    "                    new_state, reward = env.step(episode, action, index, done, 'T') #'T' means Training, and 'V' means Validation                   \n",
    "                    RL.store_transition(state, action, reward)\n",
    "                    if done:\n",
    "                        RL.learn()#回合结束开始策略梯度算法学习参数\n",
    "                        break\n",
    "                    state = new_state\n",
    "                train_e = env.output(episode, 'T') #'T' means Training, 'V' means Validation, and 'V-VIS' for visualization on Validation\n",
    "                train_ep_errs.append(train_e)\n",
    "                episode += 1\n",
    "            \n",
    "            val_ep_errs = run_online(env, RL, ratio, [i for i in range(traj_amount, traj_amount + valid_amount)])\n",
    "            val_av_err = sum(val_ep_errs)/len(val_ep_errs)\n",
    "            val_av_errs.append(val_av_err)\n",
    "            tra_av_err = sum(train_ep_errs)/len(train_ep_errs)\n",
    "            tra_av_errs.append(tra_av_err)\n",
    "            print('Training error: {}, Validation error: {}'.format(tra_av_err, val_av_err))\n",
    "            RL.save('./save/'+ str(val_av_err) + '_ratio_' + str(ratio) + '_' + env.label + '/trained_model.ckpt')\n",
    "            print('Save model at round {} episode {} with error {}'.format(r, episode, val_av_err))\n",
    "            if val_av_err < check:\n",
    "                check = val_av_err\n",
    "            print('==>current best model is {} with ratio {}'.format(check, ratio))\n",
    "            print('It costs {}s'.format(time.time()-start_t))\n",
    "    return tra_av_errs, val_av_errs\n",
    "\n",
    "def train(traj_amount, valid_amount, Round, show_time, ratio, a_size, s_size, label):\n",
    "    traj_path = '../trajData/Geolife_out/'\n",
    "    env = TrajComp(a_size, s_size)\n",
    "    env.load_train_data(traj_path, traj_amount, valid_amount)\n",
    "    env.set_error_type(label)\n",
    "    RL = PolicyGradient(env.n_features, env.n_actions)\n",
    "    start = time.time()\n",
    "    tra_av_errs, val_av_errs = run_comp(env, RL, Round, traj_amount, valid_amount, show_time, ratio)\n",
    "    print(\"Training elapsed time = %s\", float(time.time() - start))\n",
    "    with open('errors_records.txt', 'a') as f:\n",
    "        f.write('\\nTraining errors and validation errors (' + label + ')\\n')\n",
    "        for i in range(len(tra_av_errs)):\n",
    "            f.write(str(tra_av_errs[i])+' ')\n",
    "        f.write('\\n')\n",
    "        for i in range(len(val_av_errs)):\n",
    "            f.write(str(val_av_errs[i])+' ')\n",
    "    plt.figure()\n",
    "    plt.title(\"Average errors of training and validation:\")\n",
    "    plt.xlabel(\"training process / \"+str(show_time)+\" episodes\")\n",
    "    plt.ylabel(label+\" error\")\n",
    "    x = range(len(tra_av_errs))\n",
    "    plt.plot(x, tra_av_errs, \"r\", label=\"training\" )\n",
    "    plt.plot(x, val_av_errs, \"b\", label=\"validation\")\n",
    "    plt.legend()\n",
    "    plt.figure()\n",
    "    plt.title(\"Average errors of validation:\")\n",
    "    plt.xlabel(\"training process / \"+str(show_time)+\" episodes\")\n",
    "    plt.ylabel(label+\" error\")\n",
    "    x = range(len(tra_av_errs))\n",
    "    plt.plot(x, val_av_errs, \"b\", label=\"validation\")\n",
    "    plt.legend()\n",
    "    plt.show()\n"
   ]
  },
  {
   "cell_type": "code",
   "execution_count": 3,
   "metadata": {
    "scrolled": true
   },
   "outputs": [
    {
     "name": "stdout",
     "output_type": "stream",
     "text": [
      "WARNING:tensorflow:From D:\\BiShe\\my_code\\tensorflow1版本\\online-rlts\\rl_brain.py:35: The name tf.placeholder is deprecated. Please use tf.compat.v1.placeholder instead.\n",
      "\n",
      "WARNING:tensorflow:From D:\\BiShe\\my_code\\tensorflow1版本\\online-rlts\\rl_brain.py:43: dense (from tensorflow.python.layers.core) is deprecated and will be removed in a future version.\n",
      "Instructions for updating:\n",
      "Use keras.layers.Dense instead.\n",
      "WARNING:tensorflow:From F:\\Anaconda\\envs\\tensorflow1_gpu\\lib\\site-packages\\tensorflow_core\\python\\layers\\core.py:187: Layer.apply (from tensorflow.python.keras.engine.base_layer) is deprecated and will be removed in a future version.\n",
      "Instructions for updating:\n",
      "Please use `layer.__call__` method instead.\n",
      "WARNING:tensorflow:From D:\\BiShe\\my_code\\tensorflow1版本\\online-rlts\\rl_brain.py:56: The name tf.log is deprecated. Please use tf.math.log instead.\n",
      "\n",
      "WARNING:tensorflow:From D:\\BiShe\\my_code\\tensorflow1版本\\online-rlts\\rl_brain.py:61: The name tf.train.AdamOptimizer is deprecated. Please use tf.compat.v1.train.AdamOptimizer instead.\n",
      "\n",
      "WARNING:tensorflow:From D:\\BiShe\\my_code\\tensorflow1版本\\online-rlts\\rl_brain.py:19: The name tf.Session is deprecated. Please use tf.compat.v1.Session instead.\n",
      "\n",
      "WARNING:tensorflow:From D:\\BiShe\\my_code\\tensorflow1版本\\online-rlts\\rl_brain.py:25: The name tf.global_variables_initializer is deprecated. Please use tf.compat.v1.global_variables_initializer instead.\n",
      "\n"
     ]
    },
    {
     "name": "stderr",
     "output_type": "stream",
     "text": [
      "[50/500]: 100%|█████████████████████████████████████████████████████| 50/50 [01:00<00:00,  1.22s/it]\n"
     ]
    },
    {
     "name": "stdout",
     "output_type": "stream",
     "text": [
      "Training error: 58.5134774781872, Validation error: 48.742662365727455\n",
      "WARNING:tensorflow:From D:\\BiShe\\my_code\\tensorflow1版本\\online-rlts\\rl_brain.py:110: The name tf.train.Saver is deprecated. Please use tf.compat.v1.train.Saver instead.\n",
      "\n",
      "Save model at round 0 episode 50 with error 48.742662365727455\n",
      "==>current best model is 48.742662365727455 with ratio 0.1\n",
      "It costs 195.15287494659424s\n"
     ]
    },
    {
     "name": "stderr",
     "output_type": "stream",
     "text": [
      "[100/500]: 100%|████████████████████████████████████████████████████| 50/50 [00:43<00:00,  1.14it/s]\n"
     ]
    },
    {
     "name": "stdout",
     "output_type": "stream",
     "text": [
      "Training error: 310.37377682161224, Validation error: 48.796657603693745\n",
      "Save model at round 0 episode 100 with error 48.796657603693745\n",
      "==>current best model is 48.742662365727455 with ratio 0.1\n",
      "It costs 181.6434280872345s\n"
     ]
    },
    {
     "name": "stderr",
     "output_type": "stream",
     "text": [
      "[150/500]: 100%|████████████████████████████████████████████████████| 50/50 [01:15<00:00,  1.50s/it]\n"
     ]
    },
    {
     "name": "stdout",
     "output_type": "stream",
     "text": [
      "Training error: 147.5744630976104, Validation error: 47.96887770947959\n",
      "Save model at round 0 episode 150 with error 47.96887770947959\n",
      "==>current best model is 47.96887770947959 with ratio 0.1\n",
      "It costs 209.27883219718933s\n"
     ]
    },
    {
     "name": "stderr",
     "output_type": "stream",
     "text": [
      "[200/500]: 100%|████████████████████████████████████████████████████| 50/50 [01:03<00:00,  1.27s/it]\n"
     ]
    },
    {
     "name": "stdout",
     "output_type": "stream",
     "text": [
      "Training error: 50.46582726075456, Validation error: 49.146246158585676\n",
      "Save model at round 0 episode 200 with error 49.146246158585676\n",
      "==>current best model is 47.96887770947959 with ratio 0.1\n",
      "It costs 197.5473189353943s\n"
     ]
    },
    {
     "name": "stderr",
     "output_type": "stream",
     "text": [
      "[250/500]: 100%|████████████████████████████████████████████████████| 50/50 [01:07<00:00,  1.35s/it]\n"
     ]
    },
    {
     "name": "stdout",
     "output_type": "stream",
     "text": [
      "Training error: 62.05683620543593, Validation error: 46.5026897541556\n",
      "Save model at round 0 episode 250 with error 46.5026897541556\n",
      "==>current best model is 46.5026897541556 with ratio 0.1\n",
      "It costs 208.81502771377563s\n"
     ]
    },
    {
     "name": "stderr",
     "output_type": "stream",
     "text": [
      "[300/500]: 100%|████████████████████████████████████████████████████| 50/50 [02:12<00:00,  2.65s/it]\n"
     ]
    },
    {
     "name": "stdout",
     "output_type": "stream",
     "text": [
      "Training error: 110.29607678958627, Validation error: 49.95467891976686\n",
      "Save model at round 0 episode 300 with error 49.95467891976686\n",
      "==>current best model is 46.5026897541556 with ratio 0.1\n",
      "It costs 270.5283782482147s\n"
     ]
    },
    {
     "name": "stderr",
     "output_type": "stream",
     "text": [
      "[350/500]: 100%|████████████████████████████████████████████████████| 50/50 [01:15<00:00,  1.50s/it]\n"
     ]
    },
    {
     "name": "stdout",
     "output_type": "stream",
     "text": [
      "Training error: 83.76473499224565, Validation error: 47.967054644617065\n",
      "Save model at round 0 episode 350 with error 47.967054644617065\n",
      "==>current best model is 46.5026897541556 with ratio 0.1\n",
      "It costs 212.34778928756714s\n"
     ]
    },
    {
     "name": "stderr",
     "output_type": "stream",
     "text": [
      "[400/500]: 100%|████████████████████████████████████████████████████| 50/50 [00:57<00:00,  1.15s/it]\n"
     ]
    },
    {
     "name": "stdout",
     "output_type": "stream",
     "text": [
      "Training error: 114.53631310797347, Validation error: 48.0314082634489\n",
      "Save model at round 0 episode 400 with error 48.0314082634489\n",
      "==>current best model is 46.5026897541556 with ratio 0.1\n",
      "It costs 193.73988032341003s\n"
     ]
    },
    {
     "name": "stderr",
     "output_type": "stream",
     "text": [
      "[450/500]: 100%|████████████████████████████████████████████████████| 50/50 [01:14<00:00,  1.50s/it]\n"
     ]
    },
    {
     "name": "stdout",
     "output_type": "stream",
     "text": [
      "Training error: 52.293115797309504, Validation error: 48.09565086056552\n",
      "Save model at round 0 episode 450 with error 48.09565086056552\n",
      "==>current best model is 46.5026897541556 with ratio 0.1\n",
      "It costs 209.1981761455536s\n"
     ]
    },
    {
     "name": "stderr",
     "output_type": "stream",
     "text": [
      "[500/500]: 100%|████████████████████████████████████████████████████| 50/50 [01:12<00:00,  1.46s/it]\n"
     ]
    },
    {
     "name": "stdout",
     "output_type": "stream",
     "text": [
      "Training error: 79.67417160816963, Validation error: 51.33649824946856\n",
      "Save model at round 0 episode 500 with error 51.33649824946856\n",
      "==>current best model is 46.5026897541556 with ratio 0.1\n",
      "It costs 205.4953010082245s\n"
     ]
    },
    {
     "name": "stderr",
     "output_type": "stream",
     "text": [
      "[50/500]: 100%|█████████████████████████████████████████████████████| 50/50 [00:58<00:00,  1.17s/it]\n"
     ]
    },
    {
     "name": "stdout",
     "output_type": "stream",
     "text": [
      "Training error: 62.50234587680416, Validation error: 46.26097827917976\n",
      "Save model at round 1 episode 50 with error 46.26097827917976\n",
      "==>current best model is 46.26097827917976 with ratio 0.1\n",
      "It costs 191.24543642997742s\n"
     ]
    },
    {
     "name": "stderr",
     "output_type": "stream",
     "text": [
      "[100/500]: 100%|████████████████████████████████████████████████████| 50/50 [01:18<00:00,  1.57s/it]\n"
     ]
    },
    {
     "name": "stdout",
     "output_type": "stream",
     "text": [
      "Training error: 61.274855722313674, Validation error: 46.4178680795517\n",
      "Save model at round 1 episode 100 with error 46.4178680795517\n",
      "==>current best model is 46.26097827917976 with ratio 0.1\n",
      "It costs 210.69804906845093s\n"
     ]
    },
    {
     "name": "stderr",
     "output_type": "stream",
     "text": [
      "[150/500]: 100%|████████████████████████████████████████████████████| 50/50 [02:16<00:00,  2.73s/it]\n"
     ]
    },
    {
     "name": "stdout",
     "output_type": "stream",
     "text": [
      "Training error: 66.06001265527249, Validation error: 45.98048095928384\n",
      "Save model at round 1 episode 150 with error 45.98048095928384\n",
      "==>current best model is 45.98048095928384 with ratio 0.1\n",
      "It costs 273.8839862346649s\n"
     ]
    },
    {
     "name": "stderr",
     "output_type": "stream",
     "text": [
      "[200/500]: 100%|████████████████████████████████████████████████████| 50/50 [00:55<00:00,  1.12s/it]\n"
     ]
    },
    {
     "name": "stdout",
     "output_type": "stream",
     "text": [
      "Training error: 87.63485326748983, Validation error: 48.0904893981789\n",
      "Save model at round 1 episode 200 with error 48.0904893981789\n",
      "==>current best model is 45.98048095928384 with ratio 0.1\n",
      "It costs 188.98633766174316s\n"
     ]
    },
    {
     "name": "stderr",
     "output_type": "stream",
     "text": [
      "[250/500]: 100%|████████████████████████████████████████████████████| 50/50 [01:19<00:00,  1.59s/it]\n"
     ]
    },
    {
     "name": "stdout",
     "output_type": "stream",
     "text": [
      "Training error: 46.57384421315192, Validation error: 46.99926814874518\n",
      "Save model at round 1 episode 250 with error 46.99926814874518\n",
      "==>current best model is 45.98048095928384 with ratio 0.1\n",
      "It costs 215.24651312828064s\n"
     ]
    },
    {
     "name": "stderr",
     "output_type": "stream",
     "text": [
      "[300/500]: 100%|████████████████████████████████████████████████████| 50/50 [01:26<00:00,  1.72s/it]\n"
     ]
    },
    {
     "name": "stdout",
     "output_type": "stream",
     "text": [
      "Training error: 132.07010467134143, Validation error: 50.988271238393125\n",
      "Save model at round 1 episode 300 with error 50.988271238393125\n",
      "==>current best model is 45.98048095928384 with ratio 0.1\n",
      "It costs 219.5212643146515s\n"
     ]
    },
    {
     "name": "stderr",
     "output_type": "stream",
     "text": [
      "[350/500]: 100%|████████████████████████████████████████████████████| 50/50 [00:52<00:00,  1.05s/it]\n"
     ]
    },
    {
     "name": "stdout",
     "output_type": "stream",
     "text": [
      "Training error: 159.00277213910286, Validation error: 47.095772983833776\n",
      "Save model at round 1 episode 350 with error 47.095772983833776\n",
      "==>current best model is 45.98048095928384 with ratio 0.1\n",
      "It costs 191.23678755760193s\n"
     ]
    },
    {
     "name": "stderr",
     "output_type": "stream",
     "text": [
      "[400/500]: 100%|████████████████████████████████████████████████████| 50/50 [00:42<00:00,  1.17it/s]\n"
     ]
    },
    {
     "name": "stdout",
     "output_type": "stream",
     "text": [
      "Training error: 293.33387602484174, Validation error: 46.069200038376586\n",
      "Save model at round 1 episode 400 with error 46.069200038376586\n",
      "==>current best model is 45.98048095928384 with ratio 0.1\n",
      "It costs 176.70948791503906s\n"
     ]
    },
    {
     "name": "stderr",
     "output_type": "stream",
     "text": [
      "[450/500]: 100%|████████████████████████████████████████████████████| 50/50 [01:30<00:00,  1.80s/it]\n"
     ]
    },
    {
     "name": "stdout",
     "output_type": "stream",
     "text": [
      "Training error: 138.50153689257303, Validation error: 47.230655492303306\n",
      "Save model at round 1 episode 450 with error 47.230655492303306\n",
      "==>current best model is 45.98048095928384 with ratio 0.1\n",
      "It costs 223.2045600414276s\n"
     ]
    },
    {
     "name": "stderr",
     "output_type": "stream",
     "text": [
      "[500/500]: 100%|████████████████████████████████████████████████████| 50/50 [00:52<00:00,  1.04s/it]\n"
     ]
    },
    {
     "name": "stdout",
     "output_type": "stream",
     "text": [
      "Training error: 110.37106568964674, Validation error: 47.12399352507431\n",
      "Save model at round 1 episode 500 with error 47.12399352507431\n",
      "==>current best model is 45.98048095928384 with ratio 0.1\n",
      "It costs 185.84680604934692s\n"
     ]
    },
    {
     "name": "stderr",
     "output_type": "stream",
     "text": [
      "[50/500]: 100%|█████████████████████████████████████████████████████| 50/50 [01:16<00:00,  1.52s/it]\n"
     ]
    },
    {
     "name": "stdout",
     "output_type": "stream",
     "text": [
      "Training error: 75.68428913107925, Validation error: 50.64308173006807\n",
      "Save model at round 2 episode 50 with error 50.64308173006807\n",
      "==>current best model is 45.98048095928384 with ratio 0.1\n",
      "It costs 211.20706129074097s\n"
     ]
    },
    {
     "name": "stderr",
     "output_type": "stream",
     "text": [
      "[100/500]: 100%|████████████████████████████████████████████████████| 50/50 [01:25<00:00,  1.70s/it]\n"
     ]
    },
    {
     "name": "stdout",
     "output_type": "stream",
     "text": [
      "Training error: 71.0199750044083, Validation error: 47.66914291088298\n",
      "Save model at round 2 episode 100 with error 47.66914291088298\n",
      "==>current best model is 45.98048095928384 with ratio 0.1\n",
      "It costs 219.48501110076904s\n"
     ]
    },
    {
     "name": "stderr",
     "output_type": "stream",
     "text": [
      "[150/500]: 100%|████████████████████████████████████████████████████| 50/50 [00:57<00:00,  1.14s/it]\n"
     ]
    },
    {
     "name": "stdout",
     "output_type": "stream",
     "text": [
      "Training error: 92.05419034692322, Validation error: 48.83600253382337\n",
      "Save model at round 2 episode 150 with error 48.83600253382337\n",
      "==>current best model is 45.98048095928384 with ratio 0.1\n",
      "It costs 191.19150018692017s\n"
     ]
    },
    {
     "name": "stderr",
     "output_type": "stream",
     "text": [
      "[200/500]: 100%|████████████████████████████████████████████████████| 50/50 [01:19<00:00,  1.60s/it]\n"
     ]
    },
    {
     "name": "stdout",
     "output_type": "stream",
     "text": [
      "Training error: 65.16137327209107, Validation error: 46.681542973998646\n",
      "Save model at round 2 episode 200 with error 46.681542973998646\n",
      "==>current best model is 45.98048095928384 with ratio 0.1\n",
      "It costs 213.2435278892517s\n"
     ]
    },
    {
     "name": "stderr",
     "output_type": "stream",
     "text": [
      "[250/500]: 100%|████████████████████████████████████████████████████| 50/50 [00:59<00:00,  1.19s/it]\n"
     ]
    },
    {
     "name": "stdout",
     "output_type": "stream",
     "text": [
      "Training error: 131.38057996053104, Validation error: 47.575617659504275\n",
      "Save model at round 2 episode 250 with error 47.575617659504275\n",
      "==>current best model is 45.98048095928384 with ratio 0.1\n",
      "It costs 192.76453232765198s\n"
     ]
    },
    {
     "name": "stderr",
     "output_type": "stream",
     "text": [
      "[300/500]: 100%|████████████████████████████████████████████████████| 50/50 [02:05<00:00,  2.51s/it]\n"
     ]
    },
    {
     "name": "stdout",
     "output_type": "stream",
     "text": [
      "Training error: 70.41563884840996, Validation error: 45.182273611060374\n",
      "Save model at round 2 episode 300 with error 45.182273611060374\n",
      "==>current best model is 45.182273611060374 with ratio 0.1\n",
      "It costs 260.1822335720062s\n"
     ]
    },
    {
     "name": "stderr",
     "output_type": "stream",
     "text": [
      "[350/500]: 100%|████████████████████████████████████████████████████| 50/50 [01:20<00:00,  1.62s/it]\n"
     ]
    },
    {
     "name": "stdout",
     "output_type": "stream",
     "text": [
      "Training error: 278.3913652311284, Validation error: 47.386816461667394\n",
      "Save model at round 2 episode 350 with error 47.386816461667394\n",
      "==>current best model is 45.182273611060374 with ratio 0.1\n",
      "It costs 213.4825563430786s\n"
     ]
    },
    {
     "name": "stderr",
     "output_type": "stream",
     "text": [
      "[400/500]: 100%|████████████████████████████████████████████████████| 50/50 [00:49<00:00,  1.02it/s]\n"
     ]
    },
    {
     "name": "stdout",
     "output_type": "stream",
     "text": [
      "Training error: 123.04117618968752, Validation error: 48.44618445756712\n",
      "Save model at round 2 episode 400 with error 48.44618445756712\n",
      "==>current best model is 45.182273611060374 with ratio 0.1\n",
      "It costs 182.56466841697693s\n"
     ]
    },
    {
     "name": "stderr",
     "output_type": "stream",
     "text": [
      "[450/500]: 100%|████████████████████████████████████████████████████| 50/50 [00:55<00:00,  1.11s/it]\n"
     ]
    },
    {
     "name": "stdout",
     "output_type": "stream",
     "text": [
      "Training error: 99.58430864340262, Validation error: 49.54010162442064\n",
      "Save model at round 2 episode 450 with error 49.54010162442064\n",
      "==>current best model is 45.182273611060374 with ratio 0.1\n",
      "It costs 189.15064978599548s\n"
     ]
    },
    {
     "name": "stderr",
     "output_type": "stream",
     "text": [
      "[500/500]: 100%|████████████████████████████████████████████████████| 50/50 [01:05<00:00,  1.31s/it]\n"
     ]
    },
    {
     "name": "stdout",
     "output_type": "stream",
     "text": [
      "Training error: 72.69198868914833, Validation error: 46.651719684401826\n",
      "Save model at round 2 episode 500 with error 46.651719684401826\n",
      "==>current best model is 45.182273611060374 with ratio 0.1\n",
      "It costs 198.74978828430176s\n"
     ]
    },
    {
     "name": "stderr",
     "output_type": "stream",
     "text": [
      "[50/500]: 100%|█████████████████████████████████████████████████████| 50/50 [01:02<00:00,  1.26s/it]\n"
     ]
    },
    {
     "name": "stdout",
     "output_type": "stream",
     "text": [
      "Training error: 64.95858301700102, Validation error: 45.66846791566766\n",
      "Save model at round 3 episode 50 with error 45.66846791566766\n",
      "==>current best model is 45.182273611060374 with ratio 0.1\n",
      "It costs 200.83693408966064s\n"
     ]
    },
    {
     "name": "stderr",
     "output_type": "stream",
     "text": [
      "[100/500]: 100%|████████████████████████████████████████████████████| 50/50 [01:20<00:00,  1.61s/it]\n"
     ]
    },
    {
     "name": "stdout",
     "output_type": "stream",
     "text": [
      "Training error: 55.51474742670979, Validation error: 47.70112054060499\n",
      "Save model at round 3 episode 100 with error 47.70112054060499\n",
      "==>current best model is 45.182273611060374 with ratio 0.1\n",
      "It costs 214.0803244113922s\n"
     ]
    },
    {
     "name": "stderr",
     "output_type": "stream",
     "text": [
      "[150/500]: 100%|████████████████████████████████████████████████████| 50/50 [00:47<00:00,  1.06it/s]\n"
     ]
    },
    {
     "name": "stdout",
     "output_type": "stream",
     "text": [
      "Training error: 72.9317868340484, Validation error: 46.6831918280763\n",
      "Save model at round 3 episode 150 with error 46.6831918280763\n",
      "==>current best model is 45.182273611060374 with ratio 0.1\n",
      "It costs 180.83985996246338s\n"
     ]
    },
    {
     "name": "stderr",
     "output_type": "stream",
     "text": [
      "[200/500]: 100%|████████████████████████████████████████████████████| 50/50 [01:26<00:00,  1.72s/it]\n"
     ]
    },
    {
     "name": "stdout",
     "output_type": "stream",
     "text": [
      "Training error: 57.052161681197816, Validation error: 48.521002649571344\n",
      "Save model at round 3 episode 200 with error 48.521002649571344\n",
      "==>current best model is 45.182273611060374 with ratio 0.1\n",
      "It costs 220.56480813026428s\n"
     ]
    },
    {
     "name": "stderr",
     "output_type": "stream",
     "text": [
      "[250/500]: 100%|████████████████████████████████████████████████████| 50/50 [00:59<00:00,  1.20s/it]\n"
     ]
    },
    {
     "name": "stdout",
     "output_type": "stream",
     "text": [
      "Training error: 40.438367143856084, Validation error: 46.58940071265831\n",
      "Save model at round 3 episode 250 with error 46.58940071265831\n",
      "==>current best model is 45.182273611060374 with ratio 0.1\n",
      "It costs 194.70495653152466s\n"
     ]
    },
    {
     "name": "stderr",
     "output_type": "stream",
     "text": [
      "[300/500]: 100%|████████████████████████████████████████████████████| 50/50 [01:25<00:00,  1.71s/it]\n"
     ]
    },
    {
     "name": "stdout",
     "output_type": "stream",
     "text": [
      "Training error: 129.53252093083896, Validation error: 47.98642763150529\n",
      "Save model at round 3 episode 300 with error 47.98642763150529\n",
      "==>current best model is 45.182273611060374 with ratio 0.1\n",
      "It costs 220.23844814300537s\n"
     ]
    },
    {
     "name": "stderr",
     "output_type": "stream",
     "text": [
      "[350/500]: 100%|████████████████████████████████████████████████████| 50/50 [01:54<00:00,  2.29s/it]\n"
     ]
    },
    {
     "name": "stdout",
     "output_type": "stream",
     "text": [
      "Training error: 144.25343902027774, Validation error: 44.78383065651714\n",
      "Save model at round 3 episode 350 with error 44.78383065651714\n",
      "==>current best model is 44.78383065651714 with ratio 0.1\n",
      "It costs 248.58034133911133s\n"
     ]
    },
    {
     "name": "stderr",
     "output_type": "stream",
     "text": [
      "[400/500]: 100%|████████████████████████████████████████████████████| 50/50 [01:22<00:00,  1.64s/it]\n"
     ]
    },
    {
     "name": "stdout",
     "output_type": "stream",
     "text": [
      "Training error: 111.53475458584319, Validation error: 47.073324429807926\n",
      "Save model at round 3 episode 400 with error 47.073324429807926\n",
      "==>current best model is 44.78383065651714 with ratio 0.1\n",
      "It costs 218.86180520057678s\n"
     ]
    },
    {
     "name": "stderr",
     "output_type": "stream",
     "text": [
      "[450/500]: 100%|████████████████████████████████████████████████████| 50/50 [00:50<00:00,  1.02s/it]\n"
     ]
    },
    {
     "name": "stdout",
     "output_type": "stream",
     "text": [
      "Training error: 256.3650919487363, Validation error: 45.5267256436467\n",
      "Save model at round 3 episode 450 with error 45.5267256436467\n",
      "==>current best model is 44.78383065651714 with ratio 0.1\n",
      "It costs 185.82325077056885s\n"
     ]
    },
    {
     "name": "stderr",
     "output_type": "stream",
     "text": [
      "[500/500]: 100%|████████████████████████████████████████████████████| 50/50 [01:02<00:00,  1.25s/it]\n"
     ]
    },
    {
     "name": "stdout",
     "output_type": "stream",
     "text": [
      "Training error: 93.54129862603776, Validation error: 45.131747101063475\n",
      "Save model at round 3 episode 500 with error 45.131747101063475\n",
      "==>current best model is 44.78383065651714 with ratio 0.1\n",
      "It costs 196.41554713249207s\n"
     ]
    },
    {
     "name": "stderr",
     "output_type": "stream",
     "text": [
      "[50/500]: 100%|█████████████████████████████████████████████████████| 50/50 [01:58<00:00,  2.38s/it]\n"
     ]
    },
    {
     "name": "stdout",
     "output_type": "stream",
     "text": [
      "Training error: 168.5608941248185, Validation error: 45.22624791660385\n",
      "Save model at round 4 episode 50 with error 45.22624791660385\n",
      "==>current best model is 44.78383065651714 with ratio 0.1\n",
      "It costs 252.4359610080719s\n"
     ]
    },
    {
     "name": "stderr",
     "output_type": "stream",
     "text": [
      "[100/500]: 100%|████████████████████████████████████████████████████| 50/50 [01:27<00:00,  1.74s/it]\n"
     ]
    },
    {
     "name": "stdout",
     "output_type": "stream",
     "text": [
      "Training error: 93.49397194509042, Validation error: 47.6580905178743\n",
      "Save model at round 4 episode 100 with error 47.6580905178743\n",
      "==>current best model is 44.78383065651714 with ratio 0.1\n",
      "It costs 220.0341022014618s\n"
     ]
    },
    {
     "name": "stderr",
     "output_type": "stream",
     "text": [
      "[150/500]: 100%|████████████████████████████████████████████████████| 50/50 [01:01<00:00,  1.23s/it]\n"
     ]
    },
    {
     "name": "stdout",
     "output_type": "stream",
     "text": [
      "Training error: 101.2296753619694, Validation error: 45.192223150070134\n",
      "Save model at round 4 episode 150 with error 45.192223150070134\n",
      "==>current best model is 44.78383065651714 with ratio 0.1\n",
      "It costs 195.4457459449768s\n"
     ]
    },
    {
     "name": "stderr",
     "output_type": "stream",
     "text": [
      "[200/500]: 100%|████████████████████████████████████████████████████| 50/50 [01:29<00:00,  1.78s/it]\n"
     ]
    },
    {
     "name": "stdout",
     "output_type": "stream",
     "text": [
      "Training error: 64.10579081224974, Validation error: 46.025230431568325\n",
      "Save model at round 4 episode 200 with error 46.025230431568325\n",
      "==>current best model is 44.78383065651714 with ratio 0.1\n",
      "It costs 223.0581784248352s\n"
     ]
    },
    {
     "name": "stderr",
     "output_type": "stream",
     "text": [
      "[250/500]: 100%|████████████████████████████████████████████████████| 50/50 [00:57<00:00,  1.16s/it]\n"
     ]
    },
    {
     "name": "stdout",
     "output_type": "stream",
     "text": [
      "Training error: 103.00994316213927, Validation error: 45.7830669828865\n",
      "Save model at round 4 episode 250 with error 45.7830669828865\n",
      "==>current best model is 44.78383065651714 with ratio 0.1\n",
      "It costs 191.05706405639648s\n"
     ]
    },
    {
     "name": "stderr",
     "output_type": "stream",
     "text": [
      "[300/500]: 100%|████████████████████████████████████████████████████| 50/50 [01:17<00:00,  1.54s/it]\n"
     ]
    },
    {
     "name": "stdout",
     "output_type": "stream",
     "text": [
      "Training error: 111.49565380365553, Validation error: 46.61028749149647\n",
      "Save model at round 4 episode 300 with error 46.61028749149647\n",
      "==>current best model is 44.78383065651714 with ratio 0.1\n",
      "It costs 210.67827033996582s\n"
     ]
    },
    {
     "name": "stderr",
     "output_type": "stream",
     "text": [
      "[350/500]: 100%|████████████████████████████████████████████████████| 50/50 [01:24<00:00,  1.69s/it]\n"
     ]
    },
    {
     "name": "stdout",
     "output_type": "stream",
     "text": [
      "Training error: 63.638506352132346, Validation error: 46.30820241135306\n",
      "Save model at round 4 episode 350 with error 46.30820241135306\n",
      "==>current best model is 44.78383065651714 with ratio 0.1\n",
      "It costs 221.87576031684875s\n"
     ]
    },
    {
     "name": "stderr",
     "output_type": "stream",
     "text": [
      "[400/500]: 100%|████████████████████████████████████████████████████| 50/50 [00:45<00:00,  1.10it/s]\n"
     ]
    },
    {
     "name": "stdout",
     "output_type": "stream",
     "text": [
      "Training error: 75.34646368749434, Validation error: 46.634966403380886\n",
      "Save model at round 4 episode 400 with error 46.634966403380886\n",
      "==>current best model is 44.78383065651714 with ratio 0.1\n",
      "It costs 181.5611126422882s\n"
     ]
    },
    {
     "name": "stderr",
     "output_type": "stream",
     "text": [
      "[450/500]: 100%|████████████████████████████████████████████████████| 50/50 [00:53<00:00,  1.07s/it]\n"
     ]
    },
    {
     "name": "stdout",
     "output_type": "stream",
     "text": [
      "Training error: 115.36182268451256, Validation error: 47.22877105390495\n",
      "Save model at round 4 episode 450 with error 47.22877105390495\n",
      "==>current best model is 44.78383065651714 with ratio 0.1\n",
      "It costs 186.5777552127838s\n"
     ]
    },
    {
     "name": "stderr",
     "output_type": "stream",
     "text": [
      "[500/500]: 100%|████████████████████████████████████████████████████| 50/50 [01:02<00:00,  1.25s/it]\n"
     ]
    },
    {
     "name": "stdout",
     "output_type": "stream",
     "text": [
      "Training error: 54.3891798377403, Validation error: 52.611439188277856\n",
      "Save model at round 4 episode 500 with error 52.611439188277856\n",
      "==>current best model is 44.78383065651714 with ratio 0.1\n",
      "It costs 195.667582988739s\n",
      "Training elapsed time = %s 10391.690517663956\n"
     ]
    },
    {
     "data": {
      "image/png": "[encoded data removed]",
      "text/plain": [
       "<Figure size 640x480 with 1 Axes>"
      ]
     },
     "metadata": {},
     "output_type": "display_data"
    }
   ],
   "source": [
    "traj_amount = 500\n",
    "valid_amount = 100\n",
    "Round = 5\n",
    "show_time = 50\n",
    "a_size = 3\n",
    "s_size = 3\n",
    "ratio = 0.1 #缓存空间占轨迹大小的比例\n",
    "label = 'sed'\n",
    "train(traj_amount, valid_amount, Round, show_time, ratio, a_size, s_size, label)"
   ]
  },
  {
   "cell_type": "code",
   "execution_count": 4,
   "metadata": {
    "scrolled": true
   },
   "outputs": [
    {
     "name": "stderr",
     "output_type": "stream",
     "text": [
      "[50/500]: 100%|█████████████████████████████████████████████████████| 50/50 [01:04<00:00,  1.29s/it]\n"
     ]
    },
    {
     "name": "stdout",
     "output_type": "stream",
     "text": [
      "Training error: 2.0276753279835846, Validation error: 1.8729726798781852\n",
      "Save model at round 0 episode 50 with error 1.8729726798781852\n",
      "==>current best model is 1.8729726798781852 with ratio 0.1\n",
      "It costs 193.90896272659302s\n"
     ]
    },
    {
     "name": "stderr",
     "output_type": "stream",
     "text": [
      "[100/500]: 100%|████████████████████████████████████████████████████| 50/50 [01:12<00:00,  1.46s/it]\n"
     ]
    },
    {
     "name": "stdout",
     "output_type": "stream",
     "text": [
      "Training error: 1.8193192106306844, Validation error: 1.8882327732257727\n",
      "Save model at round 0 episode 100 with error 1.8882327732257727\n",
      "==>current best model is 1.8729726798781852 with ratio 0.1\n",
      "It costs 215.69488620758057s\n"
     ]
    },
    {
     "name": "stderr",
     "output_type": "stream",
     "text": [
      "[150/500]: 100%|████████████████████████████████████████████████████| 50/50 [01:17<00:00,  1.56s/it]\n"
     ]
    },
    {
     "name": "stdout",
     "output_type": "stream",
     "text": [
      "Training error: 1.8023927397920572, Validation error: 1.8840831214171339\n",
      "Save model at round 0 episode 150 with error 1.8840831214171339\n",
      "==>current best model is 1.8729726798781852 with ratio 0.1\n",
      "It costs 220.5362195968628s\n"
     ]
    },
    {
     "name": "stderr",
     "output_type": "stream",
     "text": [
      "[200/500]: 100%|████████████████████████████████████████████████████| 50/50 [01:12<00:00,  1.45s/it]\n"
     ]
    },
    {
     "name": "stdout",
     "output_type": "stream",
     "text": [
      "Training error: 1.988274425550687, Validation error: 1.8922472265404642\n",
      "Save model at round 0 episode 200 with error 1.8922472265404642\n",
      "==>current best model is 1.8729726798781852 with ratio 0.1\n",
      "It costs 213.91578483581543s\n"
     ]
    },
    {
     "name": "stderr",
     "output_type": "stream",
     "text": [
      "[250/500]: 100%|████████████████████████████████████████████████████| 50/50 [01:07<00:00,  1.36s/it]\n"
     ]
    },
    {
     "name": "stdout",
     "output_type": "stream",
     "text": [
      "Training error: 1.737724664026432, Validation error: 1.90399758195776\n",
      "Save model at round 0 episode 250 with error 1.90399758195776\n",
      "==>current best model is 1.8729726798781852 with ratio 0.1\n",
      "It costs 197.63827228546143s\n"
     ]
    },
    {
     "name": "stderr",
     "output_type": "stream",
     "text": [
      "[300/500]: 100%|████████████████████████████████████████████████████| 50/50 [00:45<00:00,  1.10it/s]\n"
     ]
    },
    {
     "name": "stdout",
     "output_type": "stream",
     "text": [
      "Training error: 1.9990053104215313, Validation error: 1.8991426803028213\n",
      "Save model at round 0 episode 300 with error 1.8991426803028213\n",
      "==>current best model is 1.8729726798781852 with ratio 0.1\n",
      "It costs 170.87389063835144s\n"
     ]
    },
    {
     "name": "stderr",
     "output_type": "stream",
     "text": [
      "[350/500]: 100%|████████████████████████████████████████████████████| 50/50 [01:08<00:00,  1.37s/it]\n"
     ]
    },
    {
     "name": "stdout",
     "output_type": "stream",
     "text": [
      "Training error: 1.643627779725291, Validation error: 1.8854019530771344\n",
      "Save model at round 0 episode 350 with error 1.8854019530771344\n",
      "==>current best model is 1.8729726798781852 with ratio 0.1\n",
      "It costs 195.56579852104187s\n"
     ]
    },
    {
     "name": "stderr",
     "output_type": "stream",
     "text": [
      "[400/500]: 100%|████████████████████████████████████████████████████| 50/50 [01:08<00:00,  1.38s/it]\n"
     ]
    },
    {
     "name": "stdout",
     "output_type": "stream",
     "text": [
      "Training error: 2.118540158268137, Validation error: 1.8871058336635615\n",
      "Save model at round 0 episode 400 with error 1.8871058336635615\n",
      "==>current best model is 1.8729726798781852 with ratio 0.1\n",
      "It costs 195.8539743423462s\n"
     ]
    },
    {
     "name": "stderr",
     "output_type": "stream",
     "text": [
      "[450/500]: 100%|████████████████████████████████████████████████████| 50/50 [02:10<00:00,  2.61s/it]\n"
     ]
    },
    {
     "name": "stdout",
     "output_type": "stream",
     "text": [
      "Training error: 1.661441214018786, Validation error: 1.8633937054602914\n",
      "Save model at round 0 episode 450 with error 1.8633937054602914\n",
      "==>current best model is 1.8633937054602914 with ratio 0.1\n",
      "It costs 256.63017296791077s\n"
     ]
    },
    {
     "name": "stderr",
     "output_type": "stream",
     "text": [
      "[500/500]: 100%|████████████████████████████████████████████████████| 50/50 [00:50<00:00,  1.00s/it]\n"
     ]
    },
    {
     "name": "stdout",
     "output_type": "stream",
     "text": [
      "Training error: 1.7564138644271698, Validation error: 1.8878936372800181\n",
      "Save model at round 0 episode 500 with error 1.8878936372800181\n",
      "==>current best model is 1.8633937054602914 with ratio 0.1\n",
      "It costs 175.41796207427979s\n"
     ]
    },
    {
     "name": "stderr",
     "output_type": "stream",
     "text": [
      "[50/500]: 100%|█████████████████████████████████████████████████████| 50/50 [01:24<00:00,  1.70s/it]\n"
     ]
    },
    {
     "name": "stdout",
     "output_type": "stream",
     "text": [
      "Training error: 1.9769419993647817, Validation error: 1.8503397148982095\n",
      "Save model at round 1 episode 50 with error 1.8503397148982095\n",
      "==>current best model is 1.8503397148982095 with ratio 0.1\n",
      "It costs 212.05342268943787s\n"
     ]
    },
    {
     "name": "stderr",
     "output_type": "stream",
     "text": [
      "[100/500]: 100%|████████████████████████████████████████████████████| 50/50 [01:24<00:00,  1.68s/it]\n"
     ]
    },
    {
     "name": "stdout",
     "output_type": "stream",
     "text": [
      "Training error: 1.7196039646521941, Validation error: 1.8672382634088833\n",
      "Save model at round 1 episode 100 with error 1.8672382634088833\n",
      "==>current best model is 1.8503397148982095 with ratio 0.1\n",
      "It costs 210.3722665309906s\n"
     ]
    },
    {
     "name": "stderr",
     "output_type": "stream",
     "text": [
      "[150/500]: 100%|████████████████████████████████████████████████████| 50/50 [01:20<00:00,  1.61s/it]\n"
     ]
    },
    {
     "name": "stdout",
     "output_type": "stream",
     "text": [
      "Training error: 1.6504537259979981, Validation error: 1.8825250436244216\n",
      "Save model at round 1 episode 150 with error 1.8825250436244216\n",
      "==>current best model is 1.8503397148982095 with ratio 0.1\n",
      "It costs 209.00140810012817s\n"
     ]
    },
    {
     "name": "stderr",
     "output_type": "stream",
     "text": [
      "[200/500]: 100%|████████████████████████████████████████████████████| 50/50 [01:05<00:00,  1.31s/it]\n"
     ]
    },
    {
     "name": "stdout",
     "output_type": "stream",
     "text": [
      "Training error: 1.8983319454591128, Validation error: 1.871028354084786\n",
      "Save model at round 1 episode 200 with error 1.871028354084786\n",
      "==>current best model is 1.8503397148982095 with ratio 0.1\n",
      "It costs 193.9537217617035s\n"
     ]
    },
    {
     "name": "stderr",
     "output_type": "stream",
     "text": [
      "[250/500]: 100%|████████████████████████████████████████████████████| 50/50 [01:08<00:00,  1.37s/it]\n"
     ]
    },
    {
     "name": "stdout",
     "output_type": "stream",
     "text": [
      "Training error: 2.01649810570899, Validation error: 1.8719025144543955\n",
      "Save model at round 1 episode 250 with error 1.8719025144543955\n",
      "==>current best model is 1.8503397148982095 with ratio 0.1\n",
      "It costs 193.31501173973083s\n"
     ]
    },
    {
     "name": "stderr",
     "output_type": "stream",
     "text": [
      "[300/500]: 100%|████████████████████████████████████████████████████| 50/50 [00:51<00:00,  1.04s/it]\n"
     ]
    },
    {
     "name": "stdout",
     "output_type": "stream",
     "text": [
      "Training error: 2.003446324244947, Validation error: 1.8840376190755195\n",
      "Save model at round 1 episode 300 with error 1.8840376190755195\n",
      "==>current best model is 1.8503397148982095 with ratio 0.1\n",
      "It costs 179.45369672775269s\n"
     ]
    },
    {
     "name": "stderr",
     "output_type": "stream",
     "text": [
      "[350/500]: 100%|████████████████████████████████████████████████████| 50/50 [01:38<00:00,  1.98s/it]\n"
     ]
    },
    {
     "name": "stdout",
     "output_type": "stream",
     "text": [
      "Training error: 1.718665707221512, Validation error: 1.8797930758231576\n",
      "Save model at round 1 episode 350 with error 1.8797930758231576\n",
      "==>current best model is 1.8503397148982095 with ratio 0.1\n",
      "It costs 224.69743394851685s\n"
     ]
    },
    {
     "name": "stderr",
     "output_type": "stream",
     "text": [
      "[400/500]: 100%|████████████████████████████████████████████████████| 50/50 [01:00<00:00,  1.21s/it]\n"
     ]
    },
    {
     "name": "stdout",
     "output_type": "stream",
     "text": [
      "Training error: 1.861811842160145, Validation error: 1.8856293933566786\n",
      "Save model at round 1 episode 400 with error 1.8856293933566786\n",
      "==>current best model is 1.8503397148982095 with ratio 0.1\n",
      "It costs 186.8384392261505s\n"
     ]
    },
    {
     "name": "stderr",
     "output_type": "stream",
     "text": [
      "[450/500]: 100%|████████████████████████████████████████████████████| 50/50 [00:46<00:00,  1.07it/s]\n"
     ]
    },
    {
     "name": "stdout",
     "output_type": "stream",
     "text": [
      "Training error: 1.8527692811912895, Validation error: 1.8705964471744598\n",
      "Save model at round 1 episode 450 with error 1.8705964471744598\n",
      "==>current best model is 1.8503397148982095 with ratio 0.1\n",
      "It costs 176.8644940853119s\n"
     ]
    },
    {
     "name": "stderr",
     "output_type": "stream",
     "text": [
      "[500/500]: 100%|████████████████████████████████████████████████████| 50/50 [00:48<00:00,  1.03it/s]\n"
     ]
    },
    {
     "name": "stdout",
     "output_type": "stream",
     "text": [
      "Training error: 1.6716321096952351, Validation error: 1.862687634340076\n",
      "Save model at round 1 episode 500 with error 1.862687634340076\n",
      "==>current best model is 1.8503397148982095 with ratio 0.1\n",
      "It costs 176.3038146495819s\n"
     ]
    },
    {
     "name": "stderr",
     "output_type": "stream",
     "text": [
      "[50/500]: 100%|█████████████████████████████████████████████████████| 50/50 [01:08<00:00,  1.38s/it]\n"
     ]
    },
    {
     "name": "stdout",
     "output_type": "stream",
     "text": [
      "Training error: 1.8184250524979375, Validation error: 1.8685783413871375\n",
      "Save model at round 2 episode 50 with error 1.8685783413871375\n",
      "==>current best model is 1.8503397148982095 with ratio 0.1\n",
      "It costs 193.63300371170044s\n"
     ]
    },
    {
     "name": "stderr",
     "output_type": "stream",
     "text": [
      "[100/500]: 100%|████████████████████████████████████████████████████| 50/50 [00:53<00:00,  1.07s/it]\n"
     ]
    },
    {
     "name": "stdout",
     "output_type": "stream",
     "text": [
      "Training error: 1.877784944453615, Validation error: 1.882749267618968\n",
      "Save model at round 2 episode 100 with error 1.882749267618968\n",
      "==>current best model is 1.8503397148982095 with ratio 0.1\n",
      "It costs 179.82793831825256s\n"
     ]
    },
    {
     "name": "stderr",
     "output_type": "stream",
     "text": [
      "[150/500]: 100%|████████████████████████████████████████████████████| 50/50 [00:48<00:00,  1.03it/s]\n"
     ]
    },
    {
     "name": "stdout",
     "output_type": "stream",
     "text": [
      "Training error: 1.7595356663175148, Validation error: 1.8379519265790878\n",
      "Save model at round 2 episode 150 with error 1.8379519265790878\n",
      "==>current best model is 1.8379519265790878 with ratio 0.1\n",
      "It costs 175.46511721611023s\n"
     ]
    },
    {
     "name": "stderr",
     "output_type": "stream",
     "text": [
      "[200/500]: 100%|████████████████████████████████████████████████████| 50/50 [01:09<00:00,  1.39s/it]\n"
     ]
    },
    {
     "name": "stdout",
     "output_type": "stream",
     "text": [
      "Training error: 1.8215513774505774, Validation error: 1.8649157604249404\n",
      "Save model at round 2 episode 200 with error 1.8649157604249404\n",
      "==>current best model is 1.8379519265790878 with ratio 0.1\n",
      "It costs 193.97363257408142s\n"
     ]
    },
    {
     "name": "stderr",
     "output_type": "stream",
     "text": [
      "[250/500]: 100%|████████████████████████████████████████████████████| 50/50 [01:12<00:00,  1.45s/it]\n"
     ]
    },
    {
     "name": "stdout",
     "output_type": "stream",
     "text": [
      "Training error: 1.7791560463897944, Validation error: 1.8624740603642471\n",
      "Save model at round 2 episode 250 with error 1.8624740603642471\n",
      "==>current best model is 1.8379519265790878 with ratio 0.1\n",
      "It costs 199.19012451171875s\n"
     ]
    },
    {
     "name": "stderr",
     "output_type": "stream",
     "text": [
      "[300/500]: 100%|████████████████████████████████████████████████████| 50/50 [01:13<00:00,  1.48s/it]\n"
     ]
    },
    {
     "name": "stdout",
     "output_type": "stream",
     "text": [
      "Training error: 1.7446786176811877, Validation error: 1.8796717754802976\n",
      "Save model at round 2 episode 300 with error 1.8796717754802976\n",
      "==>current best model is 1.8379519265790878 with ratio 0.1\n",
      "It costs 202.96924901008606s\n"
     ]
    },
    {
     "name": "stderr",
     "output_type": "stream",
     "text": [
      "[350/500]: 100%|████████████████████████████████████████████████████| 50/50 [01:33<00:00,  1.86s/it]\n"
     ]
    },
    {
     "name": "stdout",
     "output_type": "stream",
     "text": [
      "Training error: 1.698711528752578, Validation error: 1.867499403838822\n",
      "Save model at round 2 episode 350 with error 1.867499403838822\n",
      "==>current best model is 1.8379519265790878 with ratio 0.1\n",
      "It costs 220.543461561203s\n"
     ]
    },
    {
     "name": "stderr",
     "output_type": "stream",
     "text": [
      "[400/500]: 100%|████████████████████████████████████████████████████| 50/50 [01:44<00:00,  2.09s/it]\n"
     ]
    },
    {
     "name": "stdout",
     "output_type": "stream",
     "text": [
      "Training error: 2.10608403436183, Validation error: 1.8522253478236024\n",
      "Save model at round 2 episode 400 with error 1.8522253478236024\n",
      "==>current best model is 1.8379519265790878 with ratio 0.1\n",
      "It costs 232.3928771018982s\n"
     ]
    },
    {
     "name": "stderr",
     "output_type": "stream",
     "text": [
      "[450/500]: 100%|████████████████████████████████████████████████████| 50/50 [00:57<00:00,  1.16s/it]\n"
     ]
    },
    {
     "name": "stdout",
     "output_type": "stream",
     "text": [
      "Training error: 1.7687087714605674, Validation error: 1.899217501805552\n",
      "Save model at round 2 episode 450 with error 1.899217501805552\n",
      "==>current best model is 1.8379519265790878 with ratio 0.1\n",
      "It costs 183.7480912208557s\n"
     ]
    },
    {
     "name": "stderr",
     "output_type": "stream",
     "text": [
      "[500/500]: 100%|████████████████████████████████████████████████████| 50/50 [00:48<00:00,  1.02it/s]\n"
     ]
    },
    {
     "name": "stdout",
     "output_type": "stream",
     "text": [
      "Training error: 1.8748249885786592, Validation error: 1.8733572313276883\n",
      "Save model at round 2 episode 500 with error 1.8733572313276883\n",
      "==>current best model is 1.8379519265790878 with ratio 0.1\n",
      "It costs 179.25778698921204s\n"
     ]
    },
    {
     "name": "stderr",
     "output_type": "stream",
     "text": [
      "[50/500]: 100%|█████████████████████████████████████████████████████| 50/50 [00:58<00:00,  1.17s/it]\n"
     ]
    },
    {
     "name": "stdout",
     "output_type": "stream",
     "text": [
      "Training error: 1.879549079212748, Validation error: 1.8669952192516837\n",
      "Save model at round 3 episode 50 with error 1.8669952192516837\n",
      "==>current best model is 1.8379519265790878 with ratio 0.1\n",
      "It costs 184.1507134437561s\n"
     ]
    },
    {
     "name": "stderr",
     "output_type": "stream",
     "text": [
      "[100/500]: 100%|████████████████████████████████████████████████████| 50/50 [01:00<00:00,  1.21s/it]\n"
     ]
    },
    {
     "name": "stdout",
     "output_type": "stream",
     "text": [
      "Training error: 1.6936241421120242, Validation error: 1.9158301611844812\n",
      "Save model at round 3 episode 100 with error 1.9158301611844812\n",
      "==>current best model is 1.8379519265790878 with ratio 0.1\n",
      "It costs 186.6161243915558s\n"
     ]
    },
    {
     "name": "stderr",
     "output_type": "stream",
     "text": [
      "[150/500]: 100%|████████████████████████████████████████████████████| 50/50 [00:57<00:00,  1.16s/it]\n"
     ]
    },
    {
     "name": "stdout",
     "output_type": "stream",
     "text": [
      "Training error: 2.0074969974005485, Validation error: 1.8832367229248863\n",
      "Save model at round 3 episode 150 with error 1.8832367229248863\n",
      "==>current best model is 1.8379519265790878 with ratio 0.1\n",
      "It costs 184.50769710540771s\n"
     ]
    },
    {
     "name": "stderr",
     "output_type": "stream",
     "text": [
      "[200/500]: 100%|████████████████████████████████████████████████████| 50/50 [01:15<00:00,  1.51s/it]\n"
     ]
    },
    {
     "name": "stdout",
     "output_type": "stream",
     "text": [
      "Training error: 1.7581252181472664, Validation error: 1.8614724989271598\n",
      "Save model at round 3 episode 200 with error 1.8614724989271598\n",
      "==>current best model is 1.8379519265790878 with ratio 0.1\n",
      "It costs 203.3428599834442s\n"
     ]
    },
    {
     "name": "stderr",
     "output_type": "stream",
     "text": [
      "[250/500]: 100%|████████████████████████████████████████████████████| 50/50 [01:38<00:00,  1.97s/it]\n"
     ]
    },
    {
     "name": "stdout",
     "output_type": "stream",
     "text": [
      "Training error: 1.6275967949155277, Validation error: 1.8632976593790673\n",
      "Save model at round 3 episode 250 with error 1.8632976593790673\n",
      "==>current best model is 1.8379519265790878 with ratio 0.1\n",
      "It costs 227.20523953437805s\n"
     ]
    },
    {
     "name": "stderr",
     "output_type": "stream",
     "text": [
      "[300/500]: 100%|████████████████████████████████████████████████████| 50/50 [00:35<00:00,  1.41it/s]\n"
     ]
    },
    {
     "name": "stdout",
     "output_type": "stream",
     "text": [
      "Training error: 2.0292455524982422, Validation error: 1.8648201235678536\n",
      "Save model at round 3 episode 300 with error 1.8648201235678536\n",
      "==>current best model is 1.8379519265790878 with ratio 0.1\n",
      "It costs 160.92543053627014s\n"
     ]
    },
    {
     "name": "stderr",
     "output_type": "stream",
     "text": [
      "[350/500]: 100%|████████████████████████████████████████████████████| 50/50 [01:00<00:00,  1.21s/it]\n"
     ]
    },
    {
     "name": "stdout",
     "output_type": "stream",
     "text": [
      "Training error: 1.893514947105887, Validation error: 1.867139583246535\n",
      "Save model at round 3 episode 350 with error 1.867139583246535\n",
      "==>current best model is 1.8379519265790878 with ratio 0.1\n",
      "It costs 188.85063219070435s\n"
     ]
    },
    {
     "name": "stderr",
     "output_type": "stream",
     "text": [
      "[400/500]: 100%|████████████████████████████████████████████████████| 50/50 [01:08<00:00,  1.37s/it]\n"
     ]
    },
    {
     "name": "stdout",
     "output_type": "stream",
     "text": [
      "Training error: 2.0878797283374904, Validation error: 1.89251502476585\n",
      "Save model at round 3 episode 400 with error 1.89251502476585\n",
      "==>current best model is 1.8379519265790878 with ratio 0.1\n",
      "It costs 196.7636115550995s\n"
     ]
    },
    {
     "name": "stderr",
     "output_type": "stream",
     "text": [
      "[450/500]: 100%|████████████████████████████████████████████████████| 50/50 [01:28<00:00,  1.76s/it]\n"
     ]
    },
    {
     "name": "stdout",
     "output_type": "stream",
     "text": [
      "Training error: 1.6202121814061494, Validation error: 1.8617219398961\n",
      "Save model at round 3 episode 450 with error 1.8617219398961\n",
      "==>current best model is 1.8379519265790878 with ratio 0.1\n",
      "It costs 216.42952609062195s\n"
     ]
    },
    {
     "name": "stderr",
     "output_type": "stream",
     "text": [
      "[500/500]: 100%|████████████████████████████████████████████████████| 50/50 [01:24<00:00,  1.69s/it]\n"
     ]
    },
    {
     "name": "stdout",
     "output_type": "stream",
     "text": [
      "Training error: 1.6891433959826827, Validation error: 1.8947245362343488\n",
      "Save model at round 3 episode 500 with error 1.8947245362343488\n",
      "==>current best model is 1.8379519265790878 with ratio 0.1\n",
      "It costs 212.92322826385498s\n"
     ]
    },
    {
     "name": "stderr",
     "output_type": "stream",
     "text": [
      "[50/500]: 100%|█████████████████████████████████████████████████████| 50/50 [00:52<00:00,  1.05s/it]\n"
     ]
    },
    {
     "name": "stdout",
     "output_type": "stream",
     "text": [
      "Training error: 1.6203212298006897, Validation error: 1.8398229422486139\n",
      "Save model at round 4 episode 50 with error 1.8398229422486139\n",
      "==>current best model is 1.8379519265790878 with ratio 0.1\n",
      "It costs 180.88492345809937s\n"
     ]
    },
    {
     "name": "stderr",
     "output_type": "stream",
     "text": [
      "[100/500]: 100%|████████████████████████████████████████████████████| 50/50 [00:44<00:00,  1.12it/s]\n"
     ]
    },
    {
     "name": "stdout",
     "output_type": "stream",
     "text": [
      "Training error: 1.5411777923956398, Validation error: 1.8614470695311445\n",
      "Save model at round 4 episode 100 with error 1.8614470695311445\n",
      "==>current best model is 1.8379519265790878 with ratio 0.1\n",
      "It costs 170.41040062904358s\n"
     ]
    },
    {
     "name": "stderr",
     "output_type": "stream",
     "text": [
      "[150/500]: 100%|████████████████████████████████████████████████████| 50/50 [01:04<00:00,  1.29s/it]\n"
     ]
    },
    {
     "name": "stdout",
     "output_type": "stream",
     "text": [
      "Training error: 1.748043636274931, Validation error: 1.8460717107990203\n",
      "Save model at round 4 episode 150 with error 1.8460717107990203\n",
      "==>current best model is 1.8379519265790878 with ratio 0.1\n",
      "It costs 190.95652031898499s\n"
     ]
    },
    {
     "name": "stderr",
     "output_type": "stream",
     "text": [
      "[200/500]: 100%|████████████████████████████████████████████████████| 50/50 [00:58<00:00,  1.17s/it]\n"
     ]
    },
    {
     "name": "stdout",
     "output_type": "stream",
     "text": [
      "Training error: 2.012261170412418, Validation error: 1.8599134884842365\n",
      "Save model at round 4 episode 200 with error 1.8599134884842365\n",
      "==>current best model is 1.8379519265790878 with ratio 0.1\n",
      "It costs 186.4238724708557s\n"
     ]
    },
    {
     "name": "stderr",
     "output_type": "stream",
     "text": [
      "[250/500]: 100%|████████████████████████████████████████████████████| 50/50 [01:49<00:00,  2.19s/it]\n"
     ]
    },
    {
     "name": "stdout",
     "output_type": "stream",
     "text": [
      "Training error: 1.893535821147026, Validation error: 1.8802214695499768\n",
      "Save model at round 4 episode 250 with error 1.8802214695499768\n",
      "==>current best model is 1.8379519265790878 with ratio 0.1\n",
      "It costs 235.11973643302917s\n"
     ]
    },
    {
     "name": "stderr",
     "output_type": "stream",
     "text": [
      "[300/500]: 100%|████████████████████████████████████████████████████| 50/50 [01:17<00:00,  1.55s/it]\n"
     ]
    },
    {
     "name": "stdout",
     "output_type": "stream",
     "text": [
      "Training error: 1.9044739098186754, Validation error: 1.8628849697384005\n",
      "Save model at round 4 episode 300 with error 1.8628849697384005\n",
      "==>current best model is 1.8379519265790878 with ratio 0.1\n",
      "It costs 205.0569167137146s\n"
     ]
    },
    {
     "name": "stderr",
     "output_type": "stream",
     "text": [
      "[350/500]: 100%|████████████████████████████████████████████████████| 50/50 [00:56<00:00,  1.14s/it]\n"
     ]
    },
    {
     "name": "stdout",
     "output_type": "stream",
     "text": [
      "Training error: 1.9756017699867876, Validation error: 1.8593162310813187\n",
      "Save model at round 4 episode 350 with error 1.8593162310813187\n",
      "==>current best model is 1.8379519265790878 with ratio 0.1\n",
      "It costs 181.65108609199524s\n"
     ]
    },
    {
     "name": "stderr",
     "output_type": "stream",
     "text": [
      "[400/500]: 100%|████████████████████████████████████████████████████| 50/50 [00:53<00:00,  1.08s/it]\n"
     ]
    },
    {
     "name": "stdout",
     "output_type": "stream",
     "text": [
      "Training error: 1.8217839423353523, Validation error: 1.8866822498839229\n",
      "Save model at round 4 episode 400 with error 1.8866822498839229\n",
      "==>current best model is 1.8379519265790878 with ratio 0.1\n",
      "It costs 181.21853494644165s\n"
     ]
    },
    {
     "name": "stderr",
     "output_type": "stream",
     "text": [
      "[450/500]: 100%|████████████████████████████████████████████████████| 50/50 [01:27<00:00,  1.74s/it]\n"
     ]
    },
    {
     "name": "stdout",
     "output_type": "stream",
     "text": [
      "Training error: 1.8008645779384416, Validation error: 1.8762940887022497\n",
      "Save model at round 4 episode 450 with error 1.8762940887022497\n",
      "==>current best model is 1.8379519265790878 with ratio 0.1\n",
      "It costs 215.0486876964569s\n"
     ]
    },
    {
     "name": "stderr",
     "output_type": "stream",
     "text": [
      "[500/500]: 100%|████████████████████████████████████████████████████| 50/50 [01:20<00:00,  1.60s/it]\n"
     ]
    },
    {
     "name": "stdout",
     "output_type": "stream",
     "text": [
      "Training error: 2.0337680744906574, Validation error: 1.8739276974197359\n",
      "Save model at round 4 episode 500 with error 1.8739276974197359\n",
      "==>current best model is 1.8379519265790878 with ratio 0.1\n",
      "It costs 205.91509199142456s\n",
      "Training elapsed time = %s 9874.293757677078\n"
     ]
    },
    {
     "data": {
      "image/png": "[encoded data removed]",
      "text/plain": [
       "<Figure size 640x480 with 1 Axes>"
      ]
     },
     "metadata": {},
     "output_type": "display_data"
    }
   ],
   "source": [
    "train(traj_amount=500, valid_amount=100, Round=5, show_time=50, ratio=0.1, a_size=3, s_size=3, label='dad')"
   ]
  },
  {
   "cell_type": "code",
   "execution_count": 14,
   "metadata": {
    "scrolled": true
   },
   "outputs": [
    {
     "name": "stderr",
     "output_type": "stream",
     "text": [
      "[50/500]: 100%|█████████████████████████████████████████████████████| 50/50 [01:20<00:00,  1.61s/it]\n"
     ]
    },
    {
     "name": "stdout",
     "output_type": "stream",
     "text": [
      "Training error: 68.4419101183708, Validation error: 25.30050871878492\n",
      "Save model at round 0 episode 50 with error 25.30050871878492\n",
      "==>current best model is 25.30050871878492 with ratio 0.1\n",
      "It costs 211.64984107017517s\n"
     ]
    },
    {
     "name": "stderr",
     "output_type": "stream",
     "text": [
      "[100/500]: 100%|████████████████████████████████████████████████████| 50/50 [01:44<00:00,  2.09s/it]\n"
     ]
    },
    {
     "name": "stdout",
     "output_type": "stream",
     "text": [
      "Training error: 32.69170754581004, Validation error: 25.758949467732606\n",
      "Save model at round 0 episode 100 with error 25.758949467732606\n",
      "==>current best model is 25.30050871878492 with ratio 0.1\n",
      "It costs 235.43856692314148s\n"
     ]
    },
    {
     "name": "stderr",
     "output_type": "stream",
     "text": [
      "[150/500]: 100%|████████████████████████████████████████████████████| 50/50 [01:21<00:00,  1.64s/it]\n"
     ]
    },
    {
     "name": "stdout",
     "output_type": "stream",
     "text": [
      "Training error: 71.76793131541686, Validation error: 25.91026661832232\n",
      "Save model at round 0 episode 150 with error 25.91026661832232\n",
      "==>current best model is 25.30050871878492 with ratio 0.1\n",
      "It costs 215.2870044708252s\n"
     ]
    },
    {
     "name": "stderr",
     "output_type": "stream",
     "text": [
      "[200/500]: 100%|████████████████████████████████████████████████████| 50/50 [01:17<00:00,  1.54s/it]\n"
     ]
    },
    {
     "name": "stdout",
     "output_type": "stream",
     "text": [
      "Training error: 29.13366070896643, Validation error: 26.501113334459465\n",
      "Save model at round 0 episode 200 with error 26.501113334459465\n",
      "==>current best model is 25.30050871878492 with ratio 0.1\n",
      "It costs 220.0977168083191s\n"
     ]
    },
    {
     "name": "stderr",
     "output_type": "stream",
     "text": [
      "[250/500]: 100%|████████████████████████████████████████████████████| 50/50 [00:53<00:00,  1.07s/it]\n"
     ]
    },
    {
     "name": "stdout",
     "output_type": "stream",
     "text": [
      "Training error: 17.418297166386722, Validation error: 26.85810100620939\n",
      "Save model at round 0 episode 250 with error 26.85810100620939\n",
      "==>current best model is 25.30050871878492 with ratio 0.1\n",
      "It costs 188.13173604011536s\n"
     ]
    },
    {
     "name": "stderr",
     "output_type": "stream",
     "text": [
      "[300/500]: 100%|████████████████████████████████████████████████████| 50/50 [00:49<00:00,  1.00it/s]\n"
     ]
    },
    {
     "name": "stdout",
     "output_type": "stream",
     "text": [
      "Training error: 17.976591347399594, Validation error: 25.34384737018689\n",
      "Save model at round 0 episode 300 with error 25.34384737018689\n",
      "==>current best model is 25.30050871878492 with ratio 0.1\n",
      "It costs 193.73526811599731s\n"
     ]
    },
    {
     "name": "stderr",
     "output_type": "stream",
     "text": [
      "[350/500]: 100%|████████████████████████████████████████████████████| 50/50 [00:59<00:00,  1.18s/it]\n"
     ]
    },
    {
     "name": "stdout",
     "output_type": "stream",
     "text": [
      "Training error: 139.2993705001439, Validation error: 25.624137751999264\n",
      "Save model at round 0 episode 350 with error 25.624137751999264\n",
      "==>current best model is 25.30050871878492 with ratio 0.1\n",
      "It costs 196.5212082862854s\n"
     ]
    },
    {
     "name": "stderr",
     "output_type": "stream",
     "text": [
      "[400/500]: 100%|████████████████████████████████████████████████████| 50/50 [01:24<00:00,  1.70s/it]\n"
     ]
    },
    {
     "name": "stdout",
     "output_type": "stream",
     "text": [
      "Training error: 56.07706763998847, Validation error: 25.138652579322017\n",
      "Save model at round 0 episode 400 with error 25.138652579322017\n",
      "==>current best model is 25.138652579322017 with ratio 0.1\n",
      "It costs 223.55966234207153s\n"
     ]
    },
    {
     "name": "stderr",
     "output_type": "stream",
     "text": [
      "[450/500]: 100%|████████████████████████████████████████████████████| 50/50 [01:03<00:00,  1.27s/it]\n"
     ]
    },
    {
     "name": "stdout",
     "output_type": "stream",
     "text": [
      "Training error: 82.91016091791387, Validation error: 27.820191079320416\n",
      "Save model at round 0 episode 450 with error 27.820191079320416\n",
      "==>current best model is 25.138652579322017 with ratio 0.1\n",
      "It costs 188.65275311470032s\n"
     ]
    },
    {
     "name": "stderr",
     "output_type": "stream",
     "text": [
      "[500/500]: 100%|████████████████████████████████████████████████████| 50/50 [00:59<00:00,  1.19s/it]\n"
     ]
    },
    {
     "name": "stdout",
     "output_type": "stream",
     "text": [
      "Training error: 59.978152153882974, Validation error: 26.083902220360052\n",
      "Save model at round 0 episode 500 with error 26.083902220360052\n",
      "==>current best model is 25.138652579322017 with ratio 0.1\n",
      "It costs 192.78343057632446s\n"
     ]
    },
    {
     "name": "stderr",
     "output_type": "stream",
     "text": [
      "[50/500]: 100%|█████████████████████████████████████████████████████| 50/50 [01:18<00:00,  1.56s/it]\n"
     ]
    },
    {
     "name": "stdout",
     "output_type": "stream",
     "text": [
      "Training error: 49.59392513325871, Validation error: 26.811209015538864\n",
      "Save model at round 1 episode 50 with error 26.811209015538864\n",
      "==>current best model is 25.138652579322017 with ratio 0.1\n",
      "It costs 211.84228777885437s\n"
     ]
    },
    {
     "name": "stderr",
     "output_type": "stream",
     "text": [
      "[100/500]: 100%|████████████████████████████████████████████████████| 50/50 [01:04<00:00,  1.28s/it]\n"
     ]
    },
    {
     "name": "stdout",
     "output_type": "stream",
     "text": [
      "Training error: 46.476568587572466, Validation error: 27.212482498721002\n",
      "Save model at round 1 episode 100 with error 27.212482498721002\n",
      "==>current best model is 25.138652579322017 with ratio 0.1\n",
      "It costs 198.40944266319275s\n"
     ]
    },
    {
     "name": "stderr",
     "output_type": "stream",
     "text": [
      "[150/500]: 100%|████████████████████████████████████████████████████| 50/50 [01:33<00:00,  1.88s/it]\n"
     ]
    },
    {
     "name": "stdout",
     "output_type": "stream",
     "text": [
      "Training error: 22.7247466459034, Validation error: 24.7201556208062\n",
      "Save model at round 1 episode 150 with error 24.7201556208062\n",
      "==>current best model is 24.7201556208062 with ratio 0.1\n",
      "It costs 228.54430055618286s\n"
     ]
    },
    {
     "name": "stderr",
     "output_type": "stream",
     "text": [
      "[200/500]: 100%|████████████████████████████████████████████████████| 50/50 [01:13<00:00,  1.47s/it]\n"
     ]
    },
    {
     "name": "stdout",
     "output_type": "stream",
     "text": [
      "Training error: 19.771983015017053, Validation error: 25.86757885228884\n",
      "Save model at round 1 episode 200 with error 25.86757885228884\n",
      "==>current best model is 24.7201556208062 with ratio 0.1\n",
      "It costs 206.8745152950287s\n"
     ]
    },
    {
     "name": "stderr",
     "output_type": "stream",
     "text": [
      "[250/500]: 100%|████████████████████████████████████████████████████| 50/50 [00:49<00:00,  1.01it/s]\n"
     ]
    },
    {
     "name": "stdout",
     "output_type": "stream",
     "text": [
      "Training error: 27.190502223531293, Validation error: 27.501213804061557\n",
      "Save model at round 1 episode 250 with error 27.501213804061557\n",
      "==>current best model is 24.7201556208062 with ratio 0.1\n",
      "It costs 180.53354120254517s\n"
     ]
    },
    {
     "name": "stderr",
     "output_type": "stream",
     "text": [
      "[300/500]: 100%|████████████████████████████████████████████████████| 50/50 [01:05<00:00,  1.31s/it]\n"
     ]
    },
    {
     "name": "stdout",
     "output_type": "stream",
     "text": [
      "Training error: 21.949792541147044, Validation error: 22.948062491303343\n",
      "Save model at round 1 episode 300 with error 22.948062491303343\n",
      "==>current best model is 22.948062491303343 with ratio 0.1\n",
      "It costs 198.44439816474915s\n"
     ]
    },
    {
     "name": "stderr",
     "output_type": "stream",
     "text": [
      "[350/500]: 100%|████████████████████████████████████████████████████| 50/50 [01:07<00:00,  1.35s/it]\n"
     ]
    },
    {
     "name": "stdout",
     "output_type": "stream",
     "text": [
      "Training error: 224.33453276133292, Validation error: 23.422357171160556\n",
      "Save model at round 1 episode 350 with error 23.422357171160556\n",
      "==>current best model is 22.948062491303343 with ratio 0.1\n",
      "It costs 200.35392355918884s\n"
     ]
    },
    {
     "name": "stderr",
     "output_type": "stream",
     "text": [
      "[400/500]: 100%|████████████████████████████████████████████████████| 50/50 [00:47<00:00,  1.04it/s]\n"
     ]
    },
    {
     "name": "stdout",
     "output_type": "stream",
     "text": [
      "Training error: 39.841310801127314, Validation error: 25.52237622395296\n",
      "Save model at round 1 episode 400 with error 25.52237622395296\n",
      "==>current best model is 22.948062491303343 with ratio 0.1\n",
      "It costs 177.42324090003967s\n"
     ]
    },
    {
     "name": "stderr",
     "output_type": "stream",
     "text": [
      "[450/500]: 100%|████████████████████████████████████████████████████| 50/50 [01:35<00:00,  1.90s/it]\n"
     ]
    },
    {
     "name": "stdout",
     "output_type": "stream",
     "text": [
      "Training error: 96.29299579047743, Validation error: 25.284541470907552\n",
      "Save model at round 1 episode 450 with error 25.284541470907552\n",
      "==>current best model is 22.948062491303343 with ratio 0.1\n",
      "It costs 225.69009232521057s\n"
     ]
    },
    {
     "name": "stderr",
     "output_type": "stream",
     "text": [
      "[500/500]: 100%|████████████████████████████████████████████████████| 50/50 [01:02<00:00,  1.26s/it]\n"
     ]
    },
    {
     "name": "stdout",
     "output_type": "stream",
     "text": [
      "Training error: 92.78424290217187, Validation error: 24.77982388326885\n",
      "Save model at round 1 episode 500 with error 24.77982388326885\n",
      "==>current best model is 22.948062491303343 with ratio 0.1\n",
      "It costs 196.11380553245544s\n"
     ]
    },
    {
     "name": "stderr",
     "output_type": "stream",
     "text": [
      "[50/500]: 100%|█████████████████████████████████████████████████████| 50/50 [00:42<00:00,  1.17it/s]\n"
     ]
    },
    {
     "name": "stdout",
     "output_type": "stream",
     "text": [
      "Training error: 35.15272610214652, Validation error: 26.76362676837526\n",
      "Save model at round 2 episode 50 with error 26.76362676837526\n",
      "==>current best model is 22.948062491303343 with ratio 0.1\n",
      "It costs 173.51450109481812s\n"
     ]
    },
    {
     "name": "stderr",
     "output_type": "stream",
     "text": [
      "[100/500]: 100%|████████████████████████████████████████████████████| 50/50 [01:10<00:00,  1.42s/it]\n"
     ]
    },
    {
     "name": "stdout",
     "output_type": "stream",
     "text": [
      "Training error: 20.89121146194952, Validation error: 24.749892873893018\n",
      "Save model at round 2 episode 100 with error 24.749892873893018\n",
      "==>current best model is 22.948062491303343 with ratio 0.1\n",
      "It costs 200.46073961257935s\n"
     ]
    },
    {
     "name": "stderr",
     "output_type": "stream",
     "text": [
      "[150/500]: 100%|████████████████████████████████████████████████████| 50/50 [01:10<00:00,  1.42s/it]\n"
     ]
    },
    {
     "name": "stdout",
     "output_type": "stream",
     "text": [
      "Training error: 277.9664361412698, Validation error: 24.99104904415318\n",
      "Save model at round 2 episode 150 with error 24.99104904415318\n",
      "==>current best model is 22.948062491303343 with ratio 0.1\n",
      "It costs 200.91614961624146s\n"
     ]
    },
    {
     "name": "stderr",
     "output_type": "stream",
     "text": [
      "[200/500]: 100%|████████████████████████████████████████████████████| 50/50 [01:28<00:00,  1.76s/it]\n"
     ]
    },
    {
     "name": "stdout",
     "output_type": "stream",
     "text": [
      "Training error: 92.64916278129043, Validation error: 23.994212037577626\n",
      "Save model at round 2 episode 200 with error 23.994212037577626\n",
      "==>current best model is 22.948062491303343 with ratio 0.1\n",
      "It costs 220.2316436767578s\n"
     ]
    },
    {
     "name": "stderr",
     "output_type": "stream",
     "text": [
      "[250/500]: 100%|████████████████████████████████████████████████████| 50/50 [01:19<00:00,  1.59s/it]\n"
     ]
    },
    {
     "name": "stdout",
     "output_type": "stream",
     "text": [
      "Training error: 36.39347058594044, Validation error: 23.88961739531586\n",
      "Save model at round 2 episode 250 with error 23.88961739531586\n",
      "==>current best model is 22.948062491303343 with ratio 0.1\n",
      "It costs 212.72558212280273s\n"
     ]
    },
    {
     "name": "stderr",
     "output_type": "stream",
     "text": [
      "[300/500]: 100%|████████████████████████████████████████████████████| 50/50 [01:23<00:00,  1.66s/it]\n"
     ]
    },
    {
     "name": "stdout",
     "output_type": "stream",
     "text": [
      "Training error: 18.06212772686045, Validation error: 23.019397012941557\n",
      "Save model at round 2 episode 300 with error 23.019397012941557\n",
      "==>current best model is 22.948062491303343 with ratio 0.1\n",
      "It costs 217.21832156181335s\n"
     ]
    },
    {
     "name": "stderr",
     "output_type": "stream",
     "text": [
      "[350/500]: 100%|████████████████████████████████████████████████████| 50/50 [00:36<00:00,  1.37it/s]\n"
     ]
    },
    {
     "name": "stdout",
     "output_type": "stream",
     "text": [
      "Training error: 43.513025753755336, Validation error: 22.624448561539452\n",
      "Save model at round 2 episode 350 with error 22.624448561539452\n",
      "==>current best model is 22.624448561539452 with ratio 0.1\n",
      "It costs 168.03627490997314s\n"
     ]
    },
    {
     "name": "stderr",
     "output_type": "stream",
     "text": [
      "[400/500]: 100%|████████████████████████████████████████████████████| 50/50 [00:56<00:00,  1.12s/it]\n"
     ]
    },
    {
     "name": "stdout",
     "output_type": "stream",
     "text": [
      "Training error: 50.32000671216371, Validation error: 24.15532392850176\n",
      "Save model at round 2 episode 400 with error 24.15532392850176\n",
      "==>current best model is 22.624448561539452 with ratio 0.1\n",
      "It costs 189.85388946533203s\n"
     ]
    },
    {
     "name": "stderr",
     "output_type": "stream",
     "text": [
      "[450/500]: 100%|████████████████████████████████████████████████████| 50/50 [02:06<00:00,  2.53s/it]\n"
     ]
    },
    {
     "name": "stdout",
     "output_type": "stream",
     "text": [
      "Training error: 22.922826852241855, Validation error: 22.274079981388518\n",
      "Save model at round 2 episode 450 with error 22.274079981388518\n",
      "==>current best model is 22.274079981388518 with ratio 0.1\n",
      "It costs 257.14645648002625s\n"
     ]
    },
    {
     "name": "stderr",
     "output_type": "stream",
     "text": [
      "[500/500]: 100%|████████████████████████████████████████████████████| 50/50 [00:50<00:00,  1.01s/it]\n"
     ]
    },
    {
     "name": "stdout",
     "output_type": "stream",
     "text": [
      "Training error: 31.20944527382746, Validation error: 23.04490815617517\n",
      "Save model at round 2 episode 500 with error 23.04490815617517\n",
      "==>current best model is 22.274079981388518 with ratio 0.1\n",
      "It costs 179.07919073104858s\n"
     ]
    },
    {
     "name": "stderr",
     "output_type": "stream",
     "text": [
      "[50/500]: 100%|█████████████████████████████████████████████████████| 50/50 [00:46<00:00,  1.08it/s]\n"
     ]
    },
    {
     "name": "stdout",
     "output_type": "stream",
     "text": [
      "Training error: 39.884297803732274, Validation error: 19.897018875703633\n",
      "Save model at round 3 episode 50 with error 19.897018875703633\n",
      "==>current best model is 19.897018875703633 with ratio 0.1\n",
      "It costs 178.36804842948914s\n"
     ]
    },
    {
     "name": "stderr",
     "output_type": "stream",
     "text": [
      "[100/500]: 100%|████████████████████████████████████████████████████| 50/50 [00:51<00:00,  1.03s/it]\n"
     ]
    },
    {
     "name": "stdout",
     "output_type": "stream",
     "text": [
      "Training error: 27.412471257738662, Validation error: 24.710812468064915\n",
      "Save model at round 3 episode 100 with error 24.710812468064915\n",
      "==>current best model is 19.897018875703633 with ratio 0.1\n",
      "It costs 184.0827922821045s\n"
     ]
    },
    {
     "name": "stderr",
     "output_type": "stream",
     "text": [
      "[150/500]: 100%|████████████████████████████████████████████████████| 50/50 [00:59<00:00,  1.18s/it]\n"
     ]
    },
    {
     "name": "stdout",
     "output_type": "stream",
     "text": [
      "Training error: 20.21481868644164, Validation error: 21.713841138624712\n",
      "Save model at round 3 episode 150 with error 21.713841138624712\n",
      "==>current best model is 19.897018875703633 with ratio 0.1\n",
      "It costs 192.53304529190063s\n"
     ]
    },
    {
     "name": "stderr",
     "output_type": "stream",
     "text": [
      "[200/500]: 100%|████████████████████████████████████████████████████| 50/50 [01:43<00:00,  2.07s/it]\n"
     ]
    },
    {
     "name": "stdout",
     "output_type": "stream",
     "text": [
      "Training error: 58.203868561353566, Validation error: 23.97955382824845\n",
      "Save model at round 3 episode 200 with error 23.97955382824845\n",
      "==>current best model is 19.897018875703633 with ratio 0.1\n",
      "It costs 238.67686367034912s\n"
     ]
    },
    {
     "name": "stderr",
     "output_type": "stream",
     "text": [
      "[250/500]: 100%|████████████████████████████████████████████████████| 50/50 [01:38<00:00,  1.97s/it]\n"
     ]
    },
    {
     "name": "stdout",
     "output_type": "stream",
     "text": [
      "Training error: 44.04614836482629, Validation error: 19.28055979818691\n",
      "Save model at round 3 episode 250 with error 19.28055979818691\n",
      "==>current best model is 19.28055979818691 with ratio 0.1\n",
      "It costs 230.55964398384094s\n"
     ]
    },
    {
     "name": "stderr",
     "output_type": "stream",
     "text": [
      "[300/500]: 100%|████████████████████████████████████████████████████| 50/50 [01:49<00:00,  2.20s/it]\n"
     ]
    },
    {
     "name": "stdout",
     "output_type": "stream",
     "text": [
      "Training error: 127.1960729893734, Validation error: 19.873258818489827\n",
      "Save model at round 3 episode 300 with error 19.873258818489827\n",
      "==>current best model is 19.28055979818691 with ratio 0.1\n",
      "It costs 243.1051528453827s\n"
     ]
    },
    {
     "name": "stderr",
     "output_type": "stream",
     "text": [
      "[350/500]: 100%|████████████████████████████████████████████████████| 50/50 [01:03<00:00,  1.27s/it]\n"
     ]
    },
    {
     "name": "stdout",
     "output_type": "stream",
     "text": [
      "Training error: 60.689758981883585, Validation error: 23.412267329395867\n",
      "Save model at round 3 episode 350 with error 23.412267329395867\n",
      "==>current best model is 19.28055979818691 with ratio 0.1\n",
      "It costs 198.98481464385986s\n"
     ]
    },
    {
     "name": "stderr",
     "output_type": "stream",
     "text": [
      "[400/500]: 100%|████████████████████████████████████████████████████| 50/50 [00:51<00:00,  1.03s/it]\n"
     ]
    },
    {
     "name": "stdout",
     "output_type": "stream",
     "text": [
      "Training error: 34.497146976524995, Validation error: 20.65217772599962\n",
      "Save model at round 3 episode 400 with error 20.65217772599962\n",
      "==>current best model is 19.28055979818691 with ratio 0.1\n",
      "It costs 190.33666729927063s\n"
     ]
    },
    {
     "name": "stderr",
     "output_type": "stream",
     "text": [
      "[450/500]: 100%|████████████████████████████████████████████████████| 50/50 [00:55<00:00,  1.11s/it]\n"
     ]
    },
    {
     "name": "stdout",
     "output_type": "stream",
     "text": [
      "Training error: 24.31485635525948, Validation error: 20.1089455917858\n",
      "Save model at round 3 episode 450 with error 20.1089455917858\n",
      "==>current best model is 19.28055979818691 with ratio 0.1\n",
      "It costs 191.2105553150177s\n"
     ]
    },
    {
     "name": "stderr",
     "output_type": "stream",
     "text": [
      "[500/500]: 100%|████████████████████████████████████████████████████| 50/50 [01:06<00:00,  1.33s/it]\n"
     ]
    },
    {
     "name": "stdout",
     "output_type": "stream",
     "text": [
      "Training error: 19.93514650331506, Validation error: 20.335517353363425\n",
      "Save model at round 3 episode 500 with error 20.335517353363425\n",
      "==>current best model is 19.28055979818691 with ratio 0.1\n",
      "It costs 193.2933373451233s\n"
     ]
    },
    {
     "name": "stderr",
     "output_type": "stream",
     "text": [
      "[50/500]: 100%|█████████████████████████████████████████████████████| 50/50 [01:17<00:00,  1.55s/it]\n"
     ]
    },
    {
     "name": "stdout",
     "output_type": "stream",
     "text": [
      "Training error: 116.02917902611325, Validation error: 20.407694470888096\n",
      "Save model at round 4 episode 50 with error 20.407694470888096\n",
      "==>current best model is 19.28055979818691 with ratio 0.1\n",
      "It costs 210.57074213027954s\n"
     ]
    },
    {
     "name": "stderr",
     "output_type": "stream",
     "text": [
      "[100/500]: 100%|████████████████████████████████████████████████████| 50/50 [01:00<00:00,  1.20s/it]\n"
     ]
    },
    {
     "name": "stdout",
     "output_type": "stream",
     "text": [
      "Training error: 33.13165098331896, Validation error: 19.944771800221233\n",
      "Save model at round 4 episode 100 with error 19.944771800221233\n",
      "==>current best model is 19.28055979818691 with ratio 0.1\n",
      "It costs 191.41883373260498s\n"
     ]
    },
    {
     "name": "stderr",
     "output_type": "stream",
     "text": [
      "[150/500]: 100%|████████████████████████████████████████████████████| 50/50 [01:07<00:00,  1.34s/it]\n"
     ]
    },
    {
     "name": "stdout",
     "output_type": "stream",
     "text": [
      "Training error: 35.847621679146066, Validation error: 20.30279102812632\n",
      "Save model at round 4 episode 150 with error 20.30279102812632\n",
      "==>current best model is 19.28055979818691 with ratio 0.1\n",
      "It costs 199.3998522758484s\n"
     ]
    },
    {
     "name": "stderr",
     "output_type": "stream",
     "text": [
      "[200/500]: 100%|████████████████████████████████████████████████████| 50/50 [01:19<00:00,  1.59s/it]\n"
     ]
    },
    {
     "name": "stdout",
     "output_type": "stream",
     "text": [
      "Training error: 89.48470628736888, Validation error: 20.787994099810692\n",
      "Save model at round 4 episode 200 with error 20.787994099810692\n",
      "==>current best model is 19.28055979818691 with ratio 0.1\n",
      "It costs 215.72267818450928s\n"
     ]
    },
    {
     "name": "stderr",
     "output_type": "stream",
     "text": [
      "[250/500]: 100%|████████████████████████████████████████████████████| 50/50 [01:11<00:00,  1.43s/it]\n"
     ]
    },
    {
     "name": "stdout",
     "output_type": "stream",
     "text": [
      "Training error: 29.41049097411058, Validation error: 21.158638426756053\n",
      "Save model at round 4 episode 250 with error 21.158638426756053\n",
      "==>current best model is 19.28055979818691 with ratio 0.1\n",
      "It costs 206.6310179233551s\n"
     ]
    },
    {
     "name": "stderr",
     "output_type": "stream",
     "text": [
      "[300/500]: 100%|████████████████████████████████████████████████████| 50/50 [00:43<00:00,  1.15it/s]\n"
     ]
    },
    {
     "name": "stdout",
     "output_type": "stream",
     "text": [
      "Training error: 14.492138708062193, Validation error: 20.43991664364977\n",
      "Save model at round 4 episode 300 with error 20.43991664364977\n",
      "==>current best model is 19.28055979818691 with ratio 0.1\n",
      "It costs 172.92293310165405s\n"
     ]
    },
    {
     "name": "stderr",
     "output_type": "stream",
     "text": [
      "[350/500]: 100%|████████████████████████████████████████████████████| 50/50 [00:58<00:00,  1.17s/it]\n"
     ]
    },
    {
     "name": "stdout",
     "output_type": "stream",
     "text": [
      "Training error: 45.44762147923422, Validation error: 19.988164167322893\n",
      "Save model at round 4 episode 350 with error 19.988164167322893\n",
      "==>current best model is 19.28055979818691 with ratio 0.1\n",
      "It costs 188.30736374855042s\n"
     ]
    },
    {
     "name": "stderr",
     "output_type": "stream",
     "text": [
      "[400/500]: 100%|████████████████████████████████████████████████████| 50/50 [01:01<00:00,  1.24s/it]\n"
     ]
    },
    {
     "name": "stdout",
     "output_type": "stream",
     "text": [
      "Training error: 20.97118358955928, Validation error: 17.57928306848788\n",
      "Save model at round 4 episode 400 with error 17.57928306848788\n",
      "==>current best model is 17.57928306848788 with ratio 0.1\n",
      "It costs 188.48131656646729s\n"
     ]
    },
    {
     "name": "stderr",
     "output_type": "stream",
     "text": [
      "[450/500]: 100%|████████████████████████████████████████████████████| 50/50 [00:49<00:00,  1.00it/s]\n"
     ]
    },
    {
     "name": "stdout",
     "output_type": "stream",
     "text": [
      "Training error: 55.46455971949886, Validation error: 19.577988296592896\n",
      "Save model at round 4 episode 450 with error 19.577988296592896\n",
      "==>current best model is 17.57928306848788 with ratio 0.1\n",
      "It costs 178.81605505943298s\n"
     ]
    },
    {
     "name": "stderr",
     "output_type": "stream",
     "text": [
      "[500/500]: 100%|████████████████████████████████████████████████████| 50/50 [02:07<00:00,  2.54s/it]\n"
     ]
    },
    {
     "name": "stdout",
     "output_type": "stream",
     "text": [
      "Training error: 32.78738308287311, Validation error: 20.428249256087444\n",
      "Save model at round 4 episode 500 with error 20.428249256087444\n",
      "==>current best model is 17.57928306848788 with ratio 0.1\n",
      "It costs 257.53686714172363s\n",
      "Training elapsed time = %s 10160.23181605339\n"
     ]
    },
    {
     "data": {
      "image/png": "[encoded data removed]",
      "text/plain": [
       "<Figure size 640x480 with 1 Axes>"
      ]
     },
     "metadata": {},
     "output_type": "display_data"
    }
   ],
   "source": [
    "train(traj_amount=500, valid_amount=100, Round=5, show_time=50, ratio=0.1, a_size=3, s_size=3, label='ped')"
   ]
  },
  {
   "cell_type": "code",
   "execution_count": 3,
   "metadata": {
    "scrolled": true
   },
   "outputs": [
    {
     "name": "stdout",
     "output_type": "stream",
     "text": [
      "WARNING:tensorflow:From D:\\BiShe\\my_code\\tensorflow1版本\\online-rlts\\rl_brain.py:35: The name tf.placeholder is deprecated. Please use tf.compat.v1.placeholder instead.\n",
      "\n",
      "WARNING:tensorflow:From D:\\BiShe\\my_code\\tensorflow1版本\\online-rlts\\rl_brain.py:43: dense (from tensorflow.python.layers.core) is deprecated and will be removed in a future version.\n",
      "Instructions for updating:\n",
      "Use keras.layers.Dense instead.\n",
      "WARNING:tensorflow:From F:\\Anaconda\\envs\\tensorflow1_gpu\\lib\\site-packages\\tensorflow_core\\python\\layers\\core.py:187: Layer.apply (from tensorflow.python.keras.engine.base_layer) is deprecated and will be removed in a future version.\n",
      "Instructions for updating:\n",
      "Please use `layer.__call__` method instead.\n",
      "WARNING:tensorflow:From D:\\BiShe\\my_code\\tensorflow1版本\\online-rlts\\rl_brain.py:56: The name tf.log is deprecated. Please use tf.math.log instead.\n",
      "\n",
      "WARNING:tensorflow:From D:\\BiShe\\my_code\\tensorflow1版本\\online-rlts\\rl_brain.py:61: The name tf.train.AdamOptimizer is deprecated. Please use tf.compat.v1.train.AdamOptimizer instead.\n",
      "\n",
      "WARNING:tensorflow:From D:\\BiShe\\my_code\\tensorflow1版本\\online-rlts\\rl_brain.py:19: The name tf.Session is deprecated. Please use tf.compat.v1.Session instead.\n",
      "\n",
      "WARNING:tensorflow:From D:\\BiShe\\my_code\\tensorflow1版本\\online-rlts\\rl_brain.py:25: The name tf.global_variables_initializer is deprecated. Please use tf.compat.v1.global_variables_initializer instead.\n",
      "\n"
     ]
    },
    {
     "name": "stderr",
     "output_type": "stream",
     "text": [
      "[50/500]: 100%|█████████████████████████████████████████████████████| 50/50 [01:01<00:00,  1.24s/it]\n"
     ]
    },
    {
     "name": "stdout",
     "output_type": "stream",
     "text": [
      "Training error: 7.373106837003853, Validation error: 6.71273141708931\n",
      "WARNING:tensorflow:From D:\\BiShe\\my_code\\tensorflow1版本\\online-rlts\\rl_brain.py:110: The name tf.train.Saver is deprecated. Please use tf.compat.v1.train.Saver instead.\n",
      "\n",
      "Save model at round 0 episode 50 with error 6.71273141708931\n",
      "==>current best model is 6.71273141708931 with ratio 0.1\n",
      "It costs 211.13239002227783s\n"
     ]
    },
    {
     "name": "stderr",
     "output_type": "stream",
     "text": [
      "[100/500]: 100%|████████████████████████████████████████████████████| 50/50 [01:22<00:00,  1.66s/it]\n"
     ]
    },
    {
     "name": "stdout",
     "output_type": "stream",
     "text": [
      "Training error: 6.557867046010081, Validation error: 6.846242641751043\n",
      "Save model at round 0 episode 100 with error 6.846242641751043\n",
      "==>current best model is 6.71273141708931 with ratio 0.1\n",
      "It costs 239.86184239387512s\n"
     ]
    },
    {
     "name": "stderr",
     "output_type": "stream",
     "text": [
      "[150/500]: 100%|████████████████████████████████████████████████████| 50/50 [01:14<00:00,  1.50s/it]\n"
     ]
    },
    {
     "name": "stdout",
     "output_type": "stream",
     "text": [
      "Training error: 8.947868721288883, Validation error: 6.871055198036188\n",
      "Save model at round 0 episode 150 with error 6.871055198036188\n",
      "==>current best model is 6.71273141708931 with ratio 0.1\n",
      "It costs 232.37991905212402s\n"
     ]
    },
    {
     "name": "stderr",
     "output_type": "stream",
     "text": [
      "[200/500]: 100%|████████████████████████████████████████████████████| 50/50 [01:09<00:00,  1.39s/it]\n"
     ]
    },
    {
     "name": "stdout",
     "output_type": "stream",
     "text": [
      "Training error: 8.210695387426904, Validation error: 7.094568118913412\n",
      "Save model at round 0 episode 200 with error 7.094568118913412\n",
      "==>current best model is 6.71273141708931 with ratio 0.1\n",
      "It costs 233.1930434703827s\n"
     ]
    },
    {
     "name": "stderr",
     "output_type": "stream",
     "text": [
      "[250/500]: 100%|████████████████████████████████████████████████████| 50/50 [01:17<00:00,  1.54s/it]\n"
     ]
    },
    {
     "name": "stdout",
     "output_type": "stream",
     "text": [
      "Training error: 6.746423285103515, Validation error: 7.137882959278576\n",
      "Save model at round 0 episode 250 with error 7.137882959278576\n",
      "==>current best model is 6.71273141708931 with ratio 0.1\n",
      "It costs 242.7706003189087s\n"
     ]
    },
    {
     "name": "stderr",
     "output_type": "stream",
     "text": [
      "[300/500]: 100%|████████████████████████████████████████████████████| 50/50 [02:10<00:00,  2.62s/it]\n"
     ]
    },
    {
     "name": "stdout",
     "output_type": "stream",
     "text": [
      "Training error: 7.215959686190274, Validation error: 6.972739969018777\n",
      "Save model at round 0 episode 300 with error 6.972739969018777\n",
      "==>current best model is 6.71273141708931 with ratio 0.1\n",
      "It costs 281.0292375087738s\n"
     ]
    },
    {
     "name": "stderr",
     "output_type": "stream",
     "text": [
      "[350/500]: 100%|████████████████████████████████████████████████████| 50/50 [02:16<00:00,  2.74s/it]\n"
     ]
    },
    {
     "name": "stdout",
     "output_type": "stream",
     "text": [
      "Training error: 6.128822935239968, Validation error: 6.916912816338249\n",
      "Save model at round 0 episode 350 with error 6.916912816338249\n",
      "==>current best model is 6.71273141708931 with ratio 0.1\n",
      "It costs 292.63999366760254s\n"
     ]
    },
    {
     "name": "stderr",
     "output_type": "stream",
     "text": [
      "[400/500]: 100%|████████████████████████████████████████████████████| 50/50 [02:20<00:00,  2.80s/it]\n"
     ]
    },
    {
     "name": "stdout",
     "output_type": "stream",
     "text": [
      "Training error: 6.709402683065868, Validation error: 6.7239722161819175\n",
      "Save model at round 0 episode 400 with error 6.7239722161819175\n",
      "==>current best model is 6.71273141708931 with ratio 0.1\n",
      "It costs 296.6715247631073s\n"
     ]
    },
    {
     "name": "stderr",
     "output_type": "stream",
     "text": [
      "[450/500]: 100%|████████████████████████████████████████████████████| 50/50 [01:20<00:00,  1.62s/it]\n"
     ]
    },
    {
     "name": "stdout",
     "output_type": "stream",
     "text": [
      "Training error: 7.63633039096926, Validation error: 6.910610199942297\n",
      "Save model at round 0 episode 450 with error 6.910610199942297\n",
      "==>current best model is 6.71273141708931 with ratio 0.1\n",
      "It costs 233.40911030769348s\n"
     ]
    },
    {
     "name": "stderr",
     "output_type": "stream",
     "text": [
      "[500/500]: 100%|████████████████████████████████████████████████████| 50/50 [01:13<00:00,  1.47s/it]\n"
     ]
    },
    {
     "name": "stdout",
     "output_type": "stream",
     "text": [
      "Training error: 7.075503269299394, Validation error: 7.041780111432631\n",
      "Save model at round 0 episode 500 with error 7.041780111432631\n",
      "==>current best model is 6.71273141708931 with ratio 0.1\n",
      "It costs 223.0682442188263s\n"
     ]
    },
    {
     "name": "stderr",
     "output_type": "stream",
     "text": [
      "[50/500]: 100%|█████████████████████████████████████████████████████| 50/50 [02:08<00:00,  2.56s/it]\n"
     ]
    },
    {
     "name": "stdout",
     "output_type": "stream",
     "text": [
      "Training error: 7.028294224423175, Validation error: 7.022398483417982\n",
      "Save model at round 1 episode 50 with error 7.022398483417982\n",
      "==>current best model is 6.71273141708931 with ratio 0.1\n",
      "It costs 278.7114427089691s\n"
     ]
    },
    {
     "name": "stderr",
     "output_type": "stream",
     "text": [
      "[100/500]: 100%|████████████████████████████████████████████████████| 50/50 [01:49<00:00,  2.19s/it]\n"
     ]
    },
    {
     "name": "stdout",
     "output_type": "stream",
     "text": [
      "Training error: 6.252497834490044, Validation error: 6.885780407551389\n",
      "Save model at round 1 episode 100 with error 6.885780407551389\n",
      "==>current best model is 6.71273141708931 with ratio 0.1\n",
      "It costs 261.98435282707214s\n"
     ]
    },
    {
     "name": "stderr",
     "output_type": "stream",
     "text": [
      "[150/500]: 100%|████████████████████████████████████████████████████| 50/50 [00:51<00:00,  1.03s/it]\n"
     ]
    },
    {
     "name": "stdout",
     "output_type": "stream",
     "text": [
      "Training error: 8.991308043442888, Validation error: 7.0385271477996945\n",
      "Save model at round 1 episode 150 with error 7.0385271477996945\n",
      "==>current best model is 6.71273141708931 with ratio 0.1\n",
      "It costs 200.7400143146515s\n"
     ]
    },
    {
     "name": "stderr",
     "output_type": "stream",
     "text": [
      "[200/500]: 100%|████████████████████████████████████████████████████| 50/50 [01:50<00:00,  2.20s/it]\n"
     ]
    },
    {
     "name": "stdout",
     "output_type": "stream",
     "text": [
      "Training error: 6.919568408965996, Validation error: 7.006579958857577\n",
      "Save model at round 1 episode 200 with error 7.006579958857577\n",
      "==>current best model is 6.71273141708931 with ratio 0.1\n",
      "It costs 259.9315083026886s\n"
     ]
    },
    {
     "name": "stderr",
     "output_type": "stream",
     "text": [
      "[250/500]: 100%|████████████████████████████████████████████████████| 50/50 [01:06<00:00,  1.34s/it]\n"
     ]
    },
    {
     "name": "stdout",
     "output_type": "stream",
     "text": [
      "Training error: 6.653786367781619, Validation error: 6.918900399274585\n",
      "Save model at round 1 episode 250 with error 6.918900399274585\n",
      "==>current best model is 6.71273141708931 with ratio 0.1\n",
      "It costs 217.20485496520996s\n"
     ]
    },
    {
     "name": "stderr",
     "output_type": "stream",
     "text": [
      "[300/500]: 100%|████████████████████████████████████████████████████| 50/50 [01:26<00:00,  1.73s/it]\n"
     ]
    },
    {
     "name": "stdout",
     "output_type": "stream",
     "text": [
      "Training error: 8.26650216153839, Validation error: 6.904921285361235\n",
      "Save model at round 1 episode 300 with error 6.904921285361235\n",
      "==>current best model is 6.71273141708931 with ratio 0.1\n",
      "It costs 239.23827290534973s\n"
     ]
    },
    {
     "name": "stderr",
     "output_type": "stream",
     "text": [
      "[350/500]: 100%|████████████████████████████████████████████████████| 50/50 [01:55<00:00,  2.32s/it]\n"
     ]
    },
    {
     "name": "stdout",
     "output_type": "stream",
     "text": [
      "Training error: 6.8315776990121595, Validation error: 6.879806474743582\n",
      "Save model at round 1 episode 350 with error 6.879806474743582\n",
      "==>current best model is 6.71273141708931 with ratio 0.1\n",
      "It costs 266.7507154941559s\n"
     ]
    },
    {
     "name": "stderr",
     "output_type": "stream",
     "text": [
      "[400/500]: 100%|████████████████████████████████████████████████████| 50/50 [01:35<00:00,  1.92s/it]\n"
     ]
    },
    {
     "name": "stdout",
     "output_type": "stream",
     "text": [
      "Training error: 6.9660362349729725, Validation error: 6.850482036472409\n",
      "Save model at round 1 episode 400 with error 6.850482036472409\n",
      "==>current best model is 6.71273141708931 with ratio 0.1\n",
      "It costs 246.14229226112366s\n"
     ]
    },
    {
     "name": "stderr",
     "output_type": "stream",
     "text": [
      "[450/500]: 100%|████████████████████████████████████████████████████| 50/50 [01:10<00:00,  1.41s/it]\n"
     ]
    },
    {
     "name": "stdout",
     "output_type": "stream",
     "text": [
      "Training error: 8.055592016513199, Validation error: 7.079884299811067\n",
      "Save model at round 1 episode 450 with error 7.079884299811067\n",
      "==>current best model is 6.71273141708931 with ratio 0.1\n",
      "It costs 221.16968154907227s\n"
     ]
    },
    {
     "name": "stderr",
     "output_type": "stream",
     "text": [
      "[500/500]: 100%|████████████████████████████████████████████████████| 50/50 [01:10<00:00,  1.41s/it]\n"
     ]
    },
    {
     "name": "stdout",
     "output_type": "stream",
     "text": [
      "Training error: 6.399819720596123, Validation error: 7.000678472543983\n",
      "Save model at round 1 episode 500 with error 7.000678472543983\n",
      "==>current best model is 6.71273141708931 with ratio 0.1\n",
      "It costs 225.2477355003357s\n"
     ]
    },
    {
     "name": "stderr",
     "output_type": "stream",
     "text": [
      "[50/500]: 100%|█████████████████████████████████████████████████████| 50/50 [01:15<00:00,  1.51s/it]\n"
     ]
    },
    {
     "name": "stdout",
     "output_type": "stream",
     "text": [
      "Training error: 7.175490811845667, Validation error: 6.928528081323879\n",
      "Save model at round 2 episode 50 with error 6.928528081323879\n",
      "==>current best model is 6.71273141708931 with ratio 0.1\n",
      "It costs 239.87876868247986s\n"
     ]
    },
    {
     "name": "stderr",
     "output_type": "stream",
     "text": [
      "[100/500]: 100%|████████████████████████████████████████████████████| 50/50 [01:39<00:00,  1.99s/it]\n"
     ]
    },
    {
     "name": "stdout",
     "output_type": "stream",
     "text": [
      "Training error: 6.681148883331855, Validation error: 6.767774532259492\n",
      "Save model at round 2 episode 100 with error 6.767774532259492\n",
      "==>current best model is 6.71273141708931 with ratio 0.1\n",
      "It costs 253.18660473823547s\n"
     ]
    },
    {
     "name": "stderr",
     "output_type": "stream",
     "text": [
      "[150/500]: 100%|████████████████████████████████████████████████████| 50/50 [01:53<00:00,  2.27s/it]\n"
     ]
    },
    {
     "name": "stdout",
     "output_type": "stream",
     "text": [
      "Training error: 5.644184578981126, Validation error: 7.135677578969879\n",
      "Save model at round 2 episode 150 with error 7.135677578969879\n",
      "==>current best model is 6.71273141708931 with ratio 0.1\n",
      "It costs 272.20181345939636s\n"
     ]
    },
    {
     "name": "stderr",
     "output_type": "stream",
     "text": [
      "[200/500]: 100%|████████████████████████████████████████████████████| 50/50 [02:38<00:00,  3.16s/it]\n"
     ]
    },
    {
     "name": "stdout",
     "output_type": "stream",
     "text": [
      "Training error: 7.939857321010738, Validation error: 6.7484886802752815\n",
      "Save model at round 2 episode 200 with error 6.7484886802752815\n",
      "==>current best model is 6.71273141708931 with ratio 0.1\n",
      "It costs 314.1868097782135s\n"
     ]
    },
    {
     "name": "stderr",
     "output_type": "stream",
     "text": [
      "[250/500]: 100%|████████████████████████████████████████████████████| 50/50 [01:36<00:00,  1.94s/it]\n"
     ]
    },
    {
     "name": "stdout",
     "output_type": "stream",
     "text": [
      "Training error: 7.179580504732059, Validation error: 6.9623115628767165\n",
      "Save model at round 2 episode 250 with error 6.9623115628767165\n",
      "==>current best model is 6.71273141708931 with ratio 0.1\n",
      "It costs 255.9970407485962s\n"
     ]
    },
    {
     "name": "stderr",
     "output_type": "stream",
     "text": [
      "[300/500]: 100%|████████████████████████████████████████████████████| 50/50 [01:08<00:00,  1.37s/it]\n"
     ]
    },
    {
     "name": "stdout",
     "output_type": "stream",
     "text": [
      "Training error: 7.569376684333497, Validation error: 6.7996741716060765\n",
      "Save model at round 2 episode 300 with error 6.7996741716060765\n",
      "==>current best model is 6.71273141708931 with ratio 0.1\n",
      "It costs 225.88571190834045s\n"
     ]
    },
    {
     "name": "stderr",
     "output_type": "stream",
     "text": [
      "[350/500]: 100%|████████████████████████████████████████████████████| 50/50 [01:31<00:00,  1.84s/it]\n"
     ]
    },
    {
     "name": "stdout",
     "output_type": "stream",
     "text": [
      "Training error: 8.03862089746349, Validation error: 6.918203420009226\n",
      "Save model at round 2 episode 350 with error 6.918203420009226\n",
      "==>current best model is 6.71273141708931 with ratio 0.1\n",
      "It costs 244.3841474056244s\n"
     ]
    },
    {
     "name": "stderr",
     "output_type": "stream",
     "text": [
      "[400/500]: 100%|████████████████████████████████████████████████████| 50/50 [01:06<00:00,  1.33s/it]\n"
     ]
    },
    {
     "name": "stdout",
     "output_type": "stream",
     "text": [
      "Training error: 6.64054518664927, Validation error: 6.972103236967223\n",
      "Save model at round 2 episode 400 with error 6.972103236967223\n",
      "==>current best model is 6.71273141708931 with ratio 0.1\n",
      "It costs 218.43322896957397s\n"
     ]
    },
    {
     "name": "stderr",
     "output_type": "stream",
     "text": [
      "[450/500]: 100%|████████████████████████████████████████████████████| 50/50 [01:13<00:00,  1.47s/it]\n"
     ]
    },
    {
     "name": "stdout",
     "output_type": "stream",
     "text": [
      "Training error: 7.736151503763061, Validation error: 6.9732293344245235\n",
      "Save model at round 2 episode 450 with error 6.9732293344245235\n",
      "==>current best model is 6.71273141708931 with ratio 0.1\n",
      "It costs 224.65032172203064s\n"
     ]
    },
    {
     "name": "stderr",
     "output_type": "stream",
     "text": [
      "[500/500]: 100%|████████████████████████████████████████████████████| 50/50 [01:32<00:00,  1.85s/it]\n"
     ]
    },
    {
     "name": "stdout",
     "output_type": "stream",
     "text": [
      "Training error: 7.812592366908729, Validation error: 7.126014495500204\n",
      "Save model at round 2 episode 500 with error 7.126014495500204\n",
      "==>current best model is 6.71273141708931 with ratio 0.1\n",
      "It costs 244.666335105896s\n"
     ]
    },
    {
     "name": "stderr",
     "output_type": "stream",
     "text": [
      "[50/500]: 100%|█████████████████████████████████████████████████████| 50/50 [01:13<00:00,  1.47s/it]\n"
     ]
    },
    {
     "name": "stdout",
     "output_type": "stream",
     "text": [
      "Training error: 6.462094734090051, Validation error: 6.868143174969606\n",
      "Save model at round 3 episode 50 with error 6.868143174969606\n",
      "==>current best model is 6.71273141708931 with ratio 0.1\n",
      "It costs 233.13646245002747s\n"
     ]
    },
    {
     "name": "stderr",
     "output_type": "stream",
     "text": [
      "[100/500]: 100%|████████████████████████████████████████████████████| 50/50 [01:32<00:00,  1.86s/it]\n"
     ]
    },
    {
     "name": "stdout",
     "output_type": "stream",
     "text": [
      "Training error: 8.164555987491779, Validation error: 6.870583256868506\n",
      "Save model at round 3 episode 100 with error 6.870583256868506\n",
      "==>current best model is 6.71273141708931 with ratio 0.1\n",
      "It costs 244.75868368148804s\n"
     ]
    },
    {
     "name": "stderr",
     "output_type": "stream",
     "text": [
      "[150/500]: 100%|████████████████████████████████████████████████████| 50/50 [01:16<00:00,  1.53s/it]\n"
     ]
    },
    {
     "name": "stdout",
     "output_type": "stream",
     "text": [
      "Training error: 8.237558371117894, Validation error: 6.928022480871108\n",
      "Save model at round 3 episode 150 with error 6.928022480871108\n",
      "==>current best model is 6.71273141708931 with ratio 0.1\n",
      "It costs 229.13703894615173s\n"
     ]
    },
    {
     "name": "stderr",
     "output_type": "stream",
     "text": [
      "[200/500]: 100%|████████████████████████████████████████████████████| 50/50 [00:56<00:00,  1.13s/it]\n"
     ]
    },
    {
     "name": "stdout",
     "output_type": "stream",
     "text": [
      "Training error: 7.008511317766618, Validation error: 6.990832706226029\n",
      "Save model at round 3 episode 200 with error 6.990832706226029\n",
      "==>current best model is 6.71273141708931 with ratio 0.1\n",
      "It costs 207.2340223789215s\n"
     ]
    },
    {
     "name": "stderr",
     "output_type": "stream",
     "text": [
      "[250/500]: 100%|████████████████████████████████████████████████████| 50/50 [01:16<00:00,  1.53s/it]\n"
     ]
    },
    {
     "name": "stdout",
     "output_type": "stream",
     "text": [
      "Training error: 6.289642437805464, Validation error: 7.003966203897815\n",
      "Save model at round 3 episode 250 with error 7.003966203897815\n",
      "==>current best model is 6.71273141708931 with ratio 0.1\n",
      "It costs 227.78341555595398s\n"
     ]
    },
    {
     "name": "stderr",
     "output_type": "stream",
     "text": [
      "[300/500]: 100%|████████████████████████████████████████████████████| 50/50 [00:56<00:00,  1.13s/it]\n"
     ]
    },
    {
     "name": "stdout",
     "output_type": "stream",
     "text": [
      "Training error: 6.509064031514421, Validation error: 6.846984107910296\n",
      "Save model at round 3 episode 300 with error 6.846984107910296\n",
      "==>current best model is 6.71273141708931 with ratio 0.1\n",
      "It costs 207.85618948936462s\n"
     ]
    },
    {
     "name": "stderr",
     "output_type": "stream",
     "text": [
      "[350/500]: 100%|████████████████████████████████████████████████████| 50/50 [01:51<00:00,  2.22s/it]\n"
     ]
    },
    {
     "name": "stdout",
     "output_type": "stream",
     "text": [
      "Training error: 6.4234457449089435, Validation error: 6.872095150434288\n",
      "Save model at round 3 episode 350 with error 6.872095150434288\n",
      "==>current best model is 6.71273141708931 with ratio 0.1\n",
      "It costs 262.2632751464844s\n"
     ]
    },
    {
     "name": "stderr",
     "output_type": "stream",
     "text": [
      "[400/500]: 100%|████████████████████████████████████████████████████| 50/50 [02:24<00:00,  2.88s/it]\n"
     ]
    },
    {
     "name": "stdout",
     "output_type": "stream",
     "text": [
      "Training error: 8.11711367262833, Validation error: 6.884289976846641\n",
      "Save model at round 3 episode 400 with error 6.884289976846641\n",
      "==>current best model is 6.71273141708931 with ratio 0.1\n",
      "It costs 297.3659973144531s\n"
     ]
    },
    {
     "name": "stderr",
     "output_type": "stream",
     "text": [
      "[450/500]: 100%|████████████████████████████████████████████████████| 50/50 [01:57<00:00,  2.34s/it]\n"
     ]
    },
    {
     "name": "stdout",
     "output_type": "stream",
     "text": [
      "Training error: 8.28128682557769, Validation error: 6.882690196423535\n",
      "Save model at round 3 episode 450 with error 6.882690196423535\n",
      "==>current best model is 6.71273141708931 with ratio 0.1\n",
      "It costs 272.0281000137329s\n"
     ]
    },
    {
     "name": "stderr",
     "output_type": "stream",
     "text": [
      "[500/500]: 100%|████████████████████████████████████████████████████| 50/50 [01:41<00:00,  2.03s/it]\n"
     ]
    },
    {
     "name": "stdout",
     "output_type": "stream",
     "text": [
      "Training error: 6.479773148688373, Validation error: 6.878232378788629\n",
      "Save model at round 3 episode 500 with error 6.878232378788629\n",
      "==>current best model is 6.71273141708931 with ratio 0.1\n",
      "It costs 253.33700561523438s\n"
     ]
    },
    {
     "name": "stderr",
     "output_type": "stream",
     "text": [
      "[50/500]: 100%|█████████████████████████████████████████████████████| 50/50 [02:50<00:00,  3.42s/it]\n"
     ]
    },
    {
     "name": "stdout",
     "output_type": "stream",
     "text": [
      "Training error: 7.182757023282724, Validation error: 6.977244380712725\n",
      "Save model at round 4 episode 50 with error 6.977244380712725\n",
      "==>current best model is 6.71273141708931 with ratio 0.1\n",
      "It costs 322.2803406715393s\n"
     ]
    },
    {
     "name": "stderr",
     "output_type": "stream",
     "text": [
      "[100/500]: 100%|████████████████████████████████████████████████████| 50/50 [01:24<00:00,  1.70s/it]\n"
     ]
    },
    {
     "name": "stdout",
     "output_type": "stream",
     "text": [
      "Training error: 7.087170958097448, Validation error: 6.94777314422968\n",
      "Save model at round 4 episode 100 with error 6.94777314422968\n",
      "==>current best model is 6.71273141708931 with ratio 0.1\n",
      "It costs 235.99952697753906s\n"
     ]
    },
    {
     "name": "stderr",
     "output_type": "stream",
     "text": [
      "[150/500]: 100%|████████████████████████████████████████████████████| 50/50 [01:31<00:00,  1.83s/it]\n"
     ]
    },
    {
     "name": "stdout",
     "output_type": "stream",
     "text": [
      "Training error: 7.238857504203993, Validation error: 6.9983878153274395\n",
      "Save model at round 4 episode 150 with error 6.9983878153274395\n",
      "==>current best model is 6.71273141708931 with ratio 0.1\n",
      "It costs 241.23701071739197s\n"
     ]
    },
    {
     "name": "stderr",
     "output_type": "stream",
     "text": [
      "[200/500]: 100%|████████████████████████████████████████████████████| 50/50 [01:06<00:00,  1.34s/it]\n"
     ]
    },
    {
     "name": "stdout",
     "output_type": "stream",
     "text": [
      "Training error: 7.600150224011211, Validation error: 6.867636689351974\n",
      "Save model at round 4 episode 200 with error 6.867636689351974\n",
      "==>current best model is 6.71273141708931 with ratio 0.1\n",
      "It costs 216.52403497695923s\n"
     ]
    },
    {
     "name": "stderr",
     "output_type": "stream",
     "text": [
      "[250/500]: 100%|████████████████████████████████████████████████████| 50/50 [01:16<00:00,  1.54s/it]\n"
     ]
    },
    {
     "name": "stdout",
     "output_type": "stream",
     "text": [
      "Training error: 6.694663144724923, Validation error: 6.816091576750583\n",
      "Save model at round 4 episode 250 with error 6.816091576750583\n",
      "==>current best model is 6.71273141708931 with ratio 0.1\n",
      "It costs 226.43045496940613s\n"
     ]
    },
    {
     "name": "stderr",
     "output_type": "stream",
     "text": [
      "[300/500]: 100%|████████████████████████████████████████████████████| 50/50 [01:40<00:00,  2.02s/it]\n"
     ]
    },
    {
     "name": "stdout",
     "output_type": "stream",
     "text": [
      "Training error: 7.091394093414847, Validation error: 6.803245980694133\n",
      "Save model at round 4 episode 300 with error 6.803245980694133\n",
      "==>current best model is 6.71273141708931 with ratio 0.1\n",
      "It costs 251.35330653190613s\n"
     ]
    },
    {
     "name": "stderr",
     "output_type": "stream",
     "text": [
      "[350/500]: 100%|████████████████████████████████████████████████████| 50/50 [00:50<00:00,  1.01s/it]\n"
     ]
    },
    {
     "name": "stdout",
     "output_type": "stream",
     "text": [
      "Training error: 7.716778639975596, Validation error: 6.987533975871664\n",
      "Save model at round 4 episode 350 with error 6.987533975871664\n",
      "==>current best model is 6.71273141708931 with ratio 0.1\n",
      "It costs 210.95123386383057s\n"
     ]
    },
    {
     "name": "stderr",
     "output_type": "stream",
     "text": [
      "[400/500]: 100%|████████████████████████████████████████████████████| 50/50 [01:21<00:00,  1.63s/it]\n"
     ]
    },
    {
     "name": "stdout",
     "output_type": "stream",
     "text": [
      "Training error: 7.311033730017381, Validation error: 7.066379726605626\n",
      "Save model at round 4 episode 400 with error 7.066379726605626\n",
      "==>current best model is 6.71273141708931 with ratio 0.1\n",
      "It costs 229.7643187046051s\n"
     ]
    },
    {
     "name": "stderr",
     "output_type": "stream",
     "text": [
      "[450/500]: 100%|████████████████████████████████████████████████████| 50/50 [01:41<00:00,  2.03s/it]\n"
     ]
    },
    {
     "name": "stdout",
     "output_type": "stream",
     "text": [
      "Training error: 6.059303128274344, Validation error: 6.966948576253211\n",
      "Save model at round 4 episode 450 with error 6.966948576253211\n",
      "==>current best model is 6.71273141708931 with ratio 0.1\n",
      "It costs 250.9044327735901s\n"
     ]
    },
    {
     "name": "stderr",
     "output_type": "stream",
     "text": [
      "[500/500]: 100%|████████████████████████████████████████████████████| 50/50 [01:16<00:00,  1.53s/it]\n"
     ]
    },
    {
     "name": "stdout",
     "output_type": "stream",
     "text": [
      "Training error: 8.163943338214505, Validation error: 6.940615271853276\n",
      "Save model at round 4 episode 500 with error 6.940615271853276\n",
      "==>current best model is 6.71273141708931 with ratio 0.1\n",
      "It costs 224.86088228225708s\n",
      "Training elapsed time = %s 12241.958669662476\n"
     ]
    },
    {
     "data": {
      "image/png": "[encoded data removed]",
      "text/plain": [
       "<Figure size 640x480 with 1 Axes>"
      ]
     },
     "metadata": {},
     "output_type": "display_data"
    },
    {
     "data": {
      "image/png": "[encoded data removed]",
      "text/plain": [
       "<Figure size 640x480 with 1 Axes>"
      ]
     },
     "metadata": {},
     "output_type": "display_data"
    }
   ],
   "source": [
    "train(traj_amount=500, valid_amount=100, Round=5, show_time=50, ratio=0.1, a_size=3, s_size=3, label='sad')"
   ]
  },
  {
   "cell_type": "code",
   "execution_count": 8,
   "metadata": {},
   "outputs": [
    {
     "name": "stdout",
     "output_type": "stream",
     "text": [
      "WARNING:tensorflow:From D:\\BiShe\\my_code\\tensorflow1版本\\online-rlts\\rl_brain.py:35: The name tf.placeholder is deprecated. Please use tf.compat.v1.placeholder instead.\n",
      "\n",
      "WARNING:tensorflow:From D:\\BiShe\\my_code\\tensorflow1版本\\online-rlts\\rl_brain.py:43: dense (from tensorflow.python.layers.core) is deprecated and will be removed in a future version.\n",
      "Instructions for updating:\n",
      "Use keras.layers.Dense instead.\n",
      "WARNING:tensorflow:From F:\\Anaconda\\envs\\tensorflow1_gpu\\lib\\site-packages\\tensorflow_core\\python\\layers\\core.py:187: Layer.apply (from tensorflow.python.keras.engine.base_layer) is deprecated and will be removed in a future version.\n",
      "Instructions for updating:\n",
      "Please use `layer.__call__` method instead.\n",
      "WARNING:tensorflow:From D:\\BiShe\\my_code\\tensorflow1版本\\online-rlts\\rl_brain.py:56: The name tf.log is deprecated. Please use tf.math.log instead.\n",
      "\n",
      "WARNING:tensorflow:From D:\\BiShe\\my_code\\tensorflow1版本\\online-rlts\\rl_brain.py:61: The name tf.train.AdamOptimizer is deprecated. Please use tf.compat.v1.train.AdamOptimizer instead.\n",
      "\n",
      "WARNING:tensorflow:From D:\\BiShe\\my_code\\tensorflow1版本\\online-rlts\\rl_brain.py:19: The name tf.Session is deprecated. Please use tf.compat.v1.Session instead.\n",
      "\n",
      "WARNING:tensorflow:From D:\\BiShe\\my_code\\tensorflow1版本\\online-rlts\\rl_brain.py:25: The name tf.global_variables_initializer is deprecated. Please use tf.compat.v1.global_variables_initializer instead.\n",
      "\n"
     ]
    },
    {
     "name": "stderr",
     "output_type": "stream",
     "text": [
      "[50/500]: 100%|█████████████████████████████████████████████████████| 50/50 [00:42<00:00,  1.19it/s]\n"
     ]
    },
    {
     "name": "stdout",
     "output_type": "stream",
     "text": [
      "Training error: 5.798538131198837, Validation error: 3.463997339920368\n",
      "WARNING:tensorflow:From D:\\BiShe\\my_code\\tensorflow1版本\\online-rlts\\rl_brain.py:110: The name tf.train.Saver is deprecated. Please use tf.compat.v1.train.Saver instead.\n",
      "\n",
      "Save model at round 0 episode 50 with error 3.463997339920368\n",
      "==>current best model is 3.463997339920368 with ratio 0.5\n",
      "It costs 121.19610404968262s\n"
     ]
    },
    {
     "name": "stderr",
     "output_type": "stream",
     "text": [
      "[100/500]: 100%|████████████████████████████████████████████████████| 50/50 [00:55<00:00,  1.11s/it]\n"
     ]
    },
    {
     "name": "stdout",
     "output_type": "stream",
     "text": [
      "Training error: 9.225340427999036, Validation error: 3.488847105021951\n",
      "Save model at round 0 episode 100 with error 3.488847105021951\n",
      "==>current best model is 3.463997339920368 with ratio 0.5\n",
      "It costs 133.05427289009094s\n"
     ]
    },
    {
     "name": "stderr",
     "output_type": "stream",
     "text": [
      "[150/500]: 100%|████████████████████████████████████████████████████| 50/50 [00:36<00:00,  1.36it/s]\n"
     ]
    },
    {
     "name": "stdout",
     "output_type": "stream",
     "text": [
      "Training error: 4.090810232921926, Validation error: 3.6304785410865126\n",
      "Save model at round 0 episode 150 with error 3.6304785410865126\n",
      "==>current best model is 3.463997339920368 with ratio 0.5\n",
      "It costs 112.9334044456482s\n"
     ]
    },
    {
     "name": "stderr",
     "output_type": "stream",
     "text": [
      "[200/500]: 100%|████████████████████████████████████████████████████| 50/50 [00:46<00:00,  1.07it/s]\n"
     ]
    },
    {
     "name": "stdout",
     "output_type": "stream",
     "text": [
      "Training error: 2.7527676812504867, Validation error: 3.5431980338657705\n",
      "Save model at round 0 episode 200 with error 3.5431980338657705\n",
      "==>current best model is 3.463997339920368 with ratio 0.5\n",
      "It costs 123.64990305900574s\n"
     ]
    },
    {
     "name": "stderr",
     "output_type": "stream",
     "text": [
      "[250/500]: 100%|████████████████████████████████████████████████████| 50/50 [00:32<00:00,  1.53it/s]\n"
     ]
    },
    {
     "name": "stdout",
     "output_type": "stream",
     "text": [
      "Training error: 6.827828343151102, Validation error: 3.404171115894671\n",
      "Save model at round 0 episode 250 with error 3.404171115894671\n",
      "==>current best model is 3.404171115894671 with ratio 0.5\n",
      "It costs 111.56382298469543s\n"
     ]
    },
    {
     "name": "stderr",
     "output_type": "stream",
     "text": [
      "[300/500]: 100%|████████████████████████████████████████████████████| 50/50 [00:29<00:00,  1.71it/s]\n"
     ]
    },
    {
     "name": "stdout",
     "output_type": "stream",
     "text": [
      "Training error: 4.3748367866573545, Validation error: 3.436519113207166\n",
      "Save model at round 0 episode 300 with error 3.436519113207166\n",
      "==>current best model is 3.404171115894671 with ratio 0.5\n",
      "It costs 106.92164540290833s\n"
     ]
    },
    {
     "name": "stderr",
     "output_type": "stream",
     "text": [
      "[350/500]: 100%|████████████████████████████████████████████████████| 50/50 [00:28<00:00,  1.74it/s]\n"
     ]
    },
    {
     "name": "stdout",
     "output_type": "stream",
     "text": [
      "Training error: 4.39049739314758, Validation error: 3.373529431078536\n",
      "Save model at round 0 episode 350 with error 3.373529431078536\n",
      "==>current best model is 3.373529431078536 with ratio 0.5\n",
      "It costs 106.65807390213013s\n"
     ]
    },
    {
     "name": "stderr",
     "output_type": "stream",
     "text": [
      "[400/500]: 100%|████████████████████████████████████████████████████| 50/50 [00:42<00:00,  1.17it/s]\n"
     ]
    },
    {
     "name": "stdout",
     "output_type": "stream",
     "text": [
      "Training error: 3.3844809944344587, Validation error: 3.430546784407556\n",
      "Save model at round 0 episode 400 with error 3.430546784407556\n",
      "==>current best model is 3.373529431078536 with ratio 0.5\n",
      "It costs 120.16298627853394s\n"
     ]
    },
    {
     "name": "stderr",
     "output_type": "stream",
     "text": [
      "[450/500]: 100%|████████████████████████████████████████████████████| 50/50 [00:52<00:00,  1.05s/it]\n"
     ]
    },
    {
     "name": "stdout",
     "output_type": "stream",
     "text": [
      "Training error: 6.7431237427930215, Validation error: 3.378343905754111\n",
      "Save model at round 0 episode 450 with error 3.378343905754111\n",
      "==>current best model is 3.373529431078536 with ratio 0.5\n",
      "It costs 131.57593250274658s\n"
     ]
    },
    {
     "name": "stderr",
     "output_type": "stream",
     "text": [
      "[500/500]: 100%|████████████████████████████████████████████████████| 50/50 [00:46<00:00,  1.08it/s]\n"
     ]
    },
    {
     "name": "stdout",
     "output_type": "stream",
     "text": [
      "Training error: 8.495972555371498, Validation error: 3.448556186052195\n",
      "Save model at round 0 episode 500 with error 3.448556186052195\n",
      "==>current best model is 3.373529431078536 with ratio 0.5\n",
      "It costs 120.9652726650238s\n"
     ]
    },
    {
     "name": "stderr",
     "output_type": "stream",
     "text": [
      "[50/500]: 100%|█████████████████████████████████████████████████████| 50/50 [00:35<00:00,  1.41it/s]\n"
     ]
    },
    {
     "name": "stdout",
     "output_type": "stream",
     "text": [
      "Training error: 4.204559789032112, Validation error: 3.3453462006094816\n",
      "Save model at round 1 episode 50 with error 3.3453462006094816\n",
      "==>current best model is 3.3453462006094816 with ratio 0.5\n",
      "It costs 112.04142475128174s\n"
     ]
    },
    {
     "name": "stderr",
     "output_type": "stream",
     "text": [
      "[100/500]: 100%|████████████████████████████████████████████████████| 50/50 [00:40<00:00,  1.23it/s]\n"
     ]
    },
    {
     "name": "stdout",
     "output_type": "stream",
     "text": [
      "Training error: 3.3792083565832867, Validation error: 3.358532702198013\n",
      "Save model at round 1 episode 100 with error 3.358532702198013\n",
      "==>current best model is 3.3453462006094816 with ratio 0.5\n",
      "It costs 115.85392761230469s\n"
     ]
    },
    {
     "name": "stderr",
     "output_type": "stream",
     "text": [
      "[150/500]: 100%|████████████████████████████████████████████████████| 50/50 [00:42<00:00,  1.18it/s]\n"
     ]
    },
    {
     "name": "stdout",
     "output_type": "stream",
     "text": [
      "Training error: 10.254187603593296, Validation error: 3.333356347234221\n",
      "Save model at round 1 episode 150 with error 3.333356347234221\n",
      "==>current best model is 3.333356347234221 with ratio 0.5\n",
      "It costs 117.51717877388s\n"
     ]
    },
    {
     "name": "stderr",
     "output_type": "stream",
     "text": [
      "[200/500]: 100%|████████████████████████████████████████████████████| 50/50 [00:39<00:00,  1.26it/s]\n"
     ]
    },
    {
     "name": "stdout",
     "output_type": "stream",
     "text": [
      "Training error: 5.637959493354435, Validation error: 3.4248280386900674\n",
      "Save model at round 1 episode 200 with error 3.4248280386900674\n",
      "==>current best model is 3.333356347234221 with ratio 0.5\n",
      "It costs 114.71559357643127s\n"
     ]
    },
    {
     "name": "stderr",
     "output_type": "stream",
     "text": [
      "[250/500]: 100%|████████████████████████████████████████████████████| 50/50 [00:34<00:00,  1.43it/s]\n"
     ]
    },
    {
     "name": "stdout",
     "output_type": "stream",
     "text": [
      "Training error: 4.183783723304843, Validation error: 3.2560721618371615\n",
      "Save model at round 1 episode 250 with error 3.2560721618371615\n",
      "==>current best model is 3.2560721618371615 with ratio 0.5\n",
      "It costs 110.31904888153076s\n"
     ]
    },
    {
     "name": "stderr",
     "output_type": "stream",
     "text": [
      "[300/500]: 100%|████████████████████████████████████████████████████| 50/50 [00:41<00:00,  1.22it/s]\n"
     ]
    },
    {
     "name": "stdout",
     "output_type": "stream",
     "text": [
      "Training error: 3.8735679510371717, Validation error: 3.3620658229802816\n",
      "Save model at round 1 episode 300 with error 3.3620658229802816\n",
      "==>current best model is 3.2560721618371615 with ratio 0.5\n",
      "It costs 116.89212822914124s\n"
     ]
    },
    {
     "name": "stderr",
     "output_type": "stream",
     "text": [
      "[350/500]: 100%|████████████████████████████████████████████████████| 50/50 [00:39<00:00,  1.26it/s]\n"
     ]
    },
    {
     "name": "stdout",
     "output_type": "stream",
     "text": [
      "Training error: 6.376174321571342, Validation error: 3.2938410592413394\n",
      "Save model at round 1 episode 350 with error 3.2938410592413394\n",
      "==>current best model is 3.2560721618371615 with ratio 0.5\n",
      "It costs 118.4013659954071s\n"
     ]
    },
    {
     "name": "stderr",
     "output_type": "stream",
     "text": [
      "[400/500]: 100%|████████████████████████████████████████████████████| 50/50 [00:51<00:00,  1.04s/it]\n"
     ]
    },
    {
     "name": "stdout",
     "output_type": "stream",
     "text": [
      "Training error: 2.9217793674486745, Validation error: 3.3382898051302794\n",
      "Save model at round 1 episode 400 with error 3.3382898051302794\n",
      "==>current best model is 3.2560721618371615 with ratio 0.5\n",
      "It costs 131.64141416549683s\n"
     ]
    },
    {
     "name": "stderr",
     "output_type": "stream",
     "text": [
      "[450/500]: 100%|████████████████████████████████████████████████████| 50/50 [00:31<00:00,  1.60it/s]\n"
     ]
    },
    {
     "name": "stdout",
     "output_type": "stream",
     "text": [
      "Training error: 7.384818807339266, Validation error: 3.3164061909983396\n",
      "Save model at round 1 episode 450 with error 3.3164061909983396\n",
      "==>current best model is 3.2560721618371615 with ratio 0.5\n",
      "It costs 110.75248622894287s\n"
     ]
    },
    {
     "name": "stderr",
     "output_type": "stream",
     "text": [
      "[500/500]: 100%|████████████████████████████████████████████████████| 50/50 [00:56<00:00,  1.13s/it]\n"
     ]
    },
    {
     "name": "stdout",
     "output_type": "stream",
     "text": [
      "Training error: 5.030267044286777, Validation error: 3.340457760980521\n",
      "Save model at round 1 episode 500 with error 3.340457760980521\n",
      "==>current best model is 3.2560721618371615 with ratio 0.5\n",
      "It costs 139.98946905136108s\n"
     ]
    },
    {
     "name": "stderr",
     "output_type": "stream",
     "text": [
      "[50/500]: 100%|█████████████████████████████████████████████████████| 50/50 [00:33<00:00,  1.51it/s]\n"
     ]
    },
    {
     "name": "stdout",
     "output_type": "stream",
     "text": [
      "Training error: 5.101241073004798, Validation error: 3.4006602352171726\n",
      "Save model at round 2 episode 50 with error 3.4006602352171726\n",
      "==>current best model is 3.2560721618371615 with ratio 0.5\n",
      "It costs 111.31276822090149s\n"
     ]
    },
    {
     "name": "stderr",
     "output_type": "stream",
     "text": [
      "[100/500]: 100%|████████████████████████████████████████████████████| 50/50 [01:07<00:00,  1.36s/it]\n"
     ]
    },
    {
     "name": "stdout",
     "output_type": "stream",
     "text": [
      "Training error: 5.456871402045007, Validation error: 3.300734123609974\n",
      "Save model at round 2 episode 100 with error 3.300734123609974\n",
      "==>current best model is 3.2560721618371615 with ratio 0.5\n",
      "It costs 147.8392312526703s\n"
     ]
    },
    {
     "name": "stderr",
     "output_type": "stream",
     "text": [
      "[150/500]: 100%|████████████████████████████████████████████████████| 50/50 [00:32<00:00,  1.53it/s]\n"
     ]
    },
    {
     "name": "stdout",
     "output_type": "stream",
     "text": [
      "Training error: 4.619544451048923, Validation error: 3.252484098102047\n",
      "Save model at round 2 episode 150 with error 3.252484098102047\n",
      "==>current best model is 3.252484098102047 with ratio 0.5\n",
      "It costs 108.04850029945374s\n"
     ]
    },
    {
     "name": "stderr",
     "output_type": "stream",
     "text": [
      "[200/500]: 100%|████████████████████████████████████████████████████| 50/50 [00:41<00:00,  1.20it/s]\n"
     ]
    },
    {
     "name": "stdout",
     "output_type": "stream",
     "text": [
      "Training error: 4.086216091036643, Validation error: 3.2828617430277776\n",
      "Save model at round 2 episode 200 with error 3.2828617430277776\n",
      "==>current best model is 3.252484098102047 with ratio 0.5\n",
      "It costs 120.34149885177612s\n"
     ]
    },
    {
     "name": "stderr",
     "output_type": "stream",
     "text": [
      "[250/500]: 100%|████████████████████████████████████████████████████| 50/50 [00:36<00:00,  1.38it/s]\n"
     ]
    },
    {
     "name": "stdout",
     "output_type": "stream",
     "text": [
      "Training error: 5.173512826254487, Validation error: 3.3976749899819008\n",
      "Save model at round 2 episode 250 with error 3.3976749899819008\n",
      "==>current best model is 3.252484098102047 with ratio 0.5\n",
      "It costs 112.60279512405396s\n"
     ]
    },
    {
     "name": "stderr",
     "output_type": "stream",
     "text": [
      "[300/500]: 100%|████████████████████████████████████████████████████| 50/50 [00:34<00:00,  1.46it/s]\n"
     ]
    },
    {
     "name": "stdout",
     "output_type": "stream",
     "text": [
      "Training error: 8.719729496467409, Validation error: 3.242463056048615\n",
      "Save model at round 2 episode 300 with error 3.242463056048615\n",
      "==>current best model is 3.242463056048615 with ratio 0.5\n",
      "It costs 112.51060366630554s\n"
     ]
    },
    {
     "name": "stderr",
     "output_type": "stream",
     "text": [
      "[350/500]: 100%|████████████████████████████████████████████████████| 50/50 [00:48<00:00,  1.02it/s]\n"
     ]
    },
    {
     "name": "stdout",
     "output_type": "stream",
     "text": [
      "Training error: 4.108621837319675, Validation error: 3.234878536308276\n",
      "Save model at round 2 episode 350 with error 3.234878536308276\n",
      "==>current best model is 3.234878536308276 with ratio 0.5\n",
      "It costs 125.81203246116638s\n"
     ]
    },
    {
     "name": "stderr",
     "output_type": "stream",
     "text": [
      "[400/500]: 100%|████████████████████████████████████████████████████| 50/50 [00:36<00:00,  1.36it/s]\n"
     ]
    },
    {
     "name": "stdout",
     "output_type": "stream",
     "text": [
      "Training error: 3.383135841162367, Validation error: 3.3134744159159646\n",
      "Save model at round 2 episode 400 with error 3.3134744159159646\n",
      "==>current best model is 3.234878536308276 with ratio 0.5\n",
      "It costs 113.7095115184784s\n"
     ]
    },
    {
     "name": "stderr",
     "output_type": "stream",
     "text": [
      "[450/500]: 100%|████████████████████████████████████████████████████| 50/50 [00:48<00:00,  1.03it/s]\n"
     ]
    },
    {
     "name": "stdout",
     "output_type": "stream",
     "text": [
      "Training error: 4.900381976195947, Validation error: 3.276327300441994\n",
      "Save model at round 2 episode 450 with error 3.276327300441994\n",
      "==>current best model is 3.234878536308276 with ratio 0.5\n",
      "It costs 124.70484185218811s\n"
     ]
    },
    {
     "name": "stderr",
     "output_type": "stream",
     "text": [
      "[500/500]: 100%|████████████████████████████████████████████████████| 50/50 [00:32<00:00,  1.56it/s]\n"
     ]
    },
    {
     "name": "stdout",
     "output_type": "stream",
     "text": [
      "Training error: 7.0888984180139, Validation error: 3.285598583545304\n",
      "Save model at round 2 episode 500 with error 3.285598583545304\n",
      "==>current best model is 3.234878536308276 with ratio 0.5\n",
      "It costs 110.9889178276062s\n"
     ]
    },
    {
     "name": "stderr",
     "output_type": "stream",
     "text": [
      "[50/500]: 100%|█████████████████████████████████████████████████████| 50/50 [00:38<00:00,  1.28it/s]\n"
     ]
    },
    {
     "name": "stdout",
     "output_type": "stream",
     "text": [
      "Training error: 5.496388633629437, Validation error: 3.271323304517544\n",
      "Save model at round 3 episode 50 with error 3.271323304517544\n",
      "==>current best model is 3.234878536308276 with ratio 0.5\n",
      "It costs 115.63318586349487s\n"
     ]
    },
    {
     "name": "stderr",
     "output_type": "stream",
     "text": [
      "[100/500]: 100%|████████████████████████████████████████████████████| 50/50 [00:31<00:00,  1.59it/s]\n"
     ]
    },
    {
     "name": "stdout",
     "output_type": "stream",
     "text": [
      "Training error: 3.5177017363432896, Validation error: 3.3225982542989634\n",
      "Save model at round 3 episode 100 with error 3.3225982542989634\n",
      "==>current best model is 3.234878536308276 with ratio 0.5\n",
      "It costs 108.94419980049133s\n"
     ]
    },
    {
     "name": "stderr",
     "output_type": "stream",
     "text": [
      "[150/500]: 100%|████████████████████████████████████████████████████| 50/50 [00:25<00:00,  1.96it/s]\n"
     ]
    },
    {
     "name": "stdout",
     "output_type": "stream",
     "text": [
      "Training error: 5.19909155949909, Validation error: 3.360002965243953\n",
      "Save model at round 3 episode 150 with error 3.360002965243953\n",
      "==>current best model is 3.234878536308276 with ratio 0.5\n",
      "It costs 103.48303079605103s\n"
     ]
    },
    {
     "name": "stderr",
     "output_type": "stream",
     "text": [
      "[200/500]: 100%|████████████████████████████████████████████████████| 50/50 [00:52<00:00,  1.04s/it]\n"
     ]
    },
    {
     "name": "stdout",
     "output_type": "stream",
     "text": [
      "Training error: 9.233072068736051, Validation error: 3.2400461498932964\n",
      "Save model at round 3 episode 200 with error 3.2400461498932964\n",
      "==>current best model is 3.234878536308276 with ratio 0.5\n",
      "It costs 128.43144392967224s\n"
     ]
    },
    {
     "name": "stderr",
     "output_type": "stream",
     "text": [
      "[250/500]: 100%|████████████████████████████████████████████████████| 50/50 [00:23<00:00,  2.12it/s]\n"
     ]
    },
    {
     "name": "stdout",
     "output_type": "stream",
     "text": [
      "Training error: 5.084619646027465, Validation error: 3.2201045303144102\n",
      "Save model at round 3 episode 250 with error 3.2201045303144102\n",
      "==>current best model is 3.2201045303144102 with ratio 0.5\n",
      "It costs 103.84913301467896s\n"
     ]
    },
    {
     "name": "stderr",
     "output_type": "stream",
     "text": [
      "[300/500]: 100%|████████████████████████████████████████████████████| 50/50 [00:41<00:00,  1.21it/s]\n"
     ]
    },
    {
     "name": "stdout",
     "output_type": "stream",
     "text": [
      "Training error: 8.463430965068904, Validation error: 3.1413287502919656\n",
      "Save model at round 3 episode 300 with error 3.1413287502919656\n",
      "==>current best model is 3.1413287502919656 with ratio 0.5\n",
      "It costs 122.66416835784912s\n"
     ]
    },
    {
     "name": "stderr",
     "output_type": "stream",
     "text": [
      "[350/500]: 100%|████████████████████████████████████████████████████| 50/50 [00:42<00:00,  1.19it/s]\n"
     ]
    },
    {
     "name": "stdout",
     "output_type": "stream",
     "text": [
      "Training error: 3.097832664475383, Validation error: 3.141976323548464\n",
      "Save model at round 3 episode 350 with error 3.141976323548464\n",
      "==>current best model is 3.1413287502919656 with ratio 0.5\n",
      "It costs 120.87062621116638s\n"
     ]
    },
    {
     "name": "stderr",
     "output_type": "stream",
     "text": [
      "[400/500]: 100%|████████████████████████████████████████████████████| 50/50 [01:01<00:00,  1.23s/it]\n"
     ]
    },
    {
     "name": "stdout",
     "output_type": "stream",
     "text": [
      "Training error: 3.329140331043447, Validation error: 3.171637409382404\n",
      "Save model at round 3 episode 400 with error 3.171637409382404\n",
      "==>current best model is 3.1413287502919656 with ratio 0.5\n",
      "It costs 142.54670977592468s\n"
     ]
    },
    {
     "name": "stderr",
     "output_type": "stream",
     "text": [
      "[450/500]: 100%|████████████████████████████████████████████████████| 50/50 [00:56<00:00,  1.14s/it]\n"
     ]
    },
    {
     "name": "stdout",
     "output_type": "stream",
     "text": [
      "Training error: 3.910739263983711, Validation error: 3.1717911474517084\n",
      "Save model at round 3 episode 450 with error 3.1717911474517084\n",
      "==>current best model is 3.1413287502919656 with ratio 0.5\n",
      "It costs 139.98836708068848s\n"
     ]
    },
    {
     "name": "stderr",
     "output_type": "stream",
     "text": [
      "[500/500]: 100%|████████████████████████████████████████████████████| 50/50 [00:49<00:00,  1.01it/s]\n"
     ]
    },
    {
     "name": "stdout",
     "output_type": "stream",
     "text": [
      "Training error: 5.607071306432371, Validation error: 3.200409170267433\n",
      "Save model at round 3 episode 500 with error 3.200409170267433\n",
      "==>current best model is 3.1413287502919656 with ratio 0.5\n",
      "It costs 129.10672330856323s\n"
     ]
    },
    {
     "name": "stderr",
     "output_type": "stream",
     "text": [
      "[50/500]: 100%|█████████████████████████████████████████████████████| 50/50 [00:19<00:00,  2.62it/s]\n"
     ]
    },
    {
     "name": "stdout",
     "output_type": "stream",
     "text": [
      "Training error: 6.101840027306839, Validation error: 3.160536038304398\n",
      "Save model at round 4 episode 50 with error 3.160536038304398\n",
      "==>current best model is 3.1413287502919656 with ratio 0.5\n",
      "It costs 94.54505276679993s\n"
     ]
    },
    {
     "name": "stderr",
     "output_type": "stream",
     "text": [
      "[100/500]: 100%|████████████████████████████████████████████████████| 50/50 [00:30<00:00,  1.63it/s]\n"
     ]
    },
    {
     "name": "stdout",
     "output_type": "stream",
     "text": [
      "Training error: 6.876515292790705, Validation error: 3.1730435272264783\n",
      "Save model at round 4 episode 100 with error 3.1730435272264783\n",
      "==>current best model is 3.1413287502919656 with ratio 0.5\n",
      "It costs 105.9429361820221s\n"
     ]
    },
    {
     "name": "stderr",
     "output_type": "stream",
     "text": [
      "[150/500]: 100%|████████████████████████████████████████████████████| 50/50 [00:54<00:00,  1.09s/it]\n"
     ]
    },
    {
     "name": "stdout",
     "output_type": "stream",
     "text": [
      "Training error: 3.133511861420479, Validation error: 3.216615401334693\n",
      "Save model at round 4 episode 150 with error 3.216615401334693\n",
      "==>current best model is 3.1413287502919656 with ratio 0.5\n",
      "It costs 130.16742086410522s\n"
     ]
    },
    {
     "name": "stderr",
     "output_type": "stream",
     "text": [
      "[200/500]: 100%|████████████████████████████████████████████████████| 50/50 [00:34<00:00,  1.43it/s]\n"
     ]
    },
    {
     "name": "stdout",
     "output_type": "stream",
     "text": [
      "Training error: 6.05244585273443, Validation error: 3.1648408716212533\n",
      "Save model at round 4 episode 200 with error 3.1648408716212533\n",
      "==>current best model is 3.1413287502919656 with ratio 0.5\n",
      "It costs 112.6907708644867s\n"
     ]
    },
    {
     "name": "stderr",
     "output_type": "stream",
     "text": [
      "[250/500]: 100%|████████████████████████████████████████████████████| 50/50 [01:07<00:00,  1.35s/it]\n"
     ]
    },
    {
     "name": "stdout",
     "output_type": "stream",
     "text": [
      "Training error: 4.150545038365769, Validation error: 3.202380036352902\n",
      "Save model at round 4 episode 250 with error 3.202380036352902\n",
      "==>current best model is 3.1413287502919656 with ratio 0.5\n",
      "It costs 142.8453392982483s\n"
     ]
    },
    {
     "name": "stderr",
     "output_type": "stream",
     "text": [
      "[300/500]: 100%|████████████████████████████████████████████████████| 50/50 [00:48<00:00,  1.03it/s]\n"
     ]
    },
    {
     "name": "stdout",
     "output_type": "stream",
     "text": [
      "Training error: 2.9457566314381047, Validation error: 3.1703036848236583\n",
      "Save model at round 4 episode 300 with error 3.1703036848236583\n",
      "==>current best model is 3.1413287502919656 with ratio 0.5\n",
      "It costs 125.40916991233826s\n"
     ]
    },
    {
     "name": "stderr",
     "output_type": "stream",
     "text": [
      "[350/500]: 100%|████████████████████████████████████████████████████| 50/50 [00:42<00:00,  1.18it/s]\n"
     ]
    },
    {
     "name": "stdout",
     "output_type": "stream",
     "text": [
      "Training error: 5.372816216053318, Validation error: 3.0932506440185987\n",
      "Save model at round 4 episode 350 with error 3.0932506440185987\n",
      "==>current best model is 3.0932506440185987 with ratio 0.5\n",
      "It costs 117.95169997215271s\n"
     ]
    },
    {
     "name": "stderr",
     "output_type": "stream",
     "text": [
      "[400/500]: 100%|████████████████████████████████████████████████████| 50/50 [00:40<00:00,  1.25it/s]\n"
     ]
    },
    {
     "name": "stdout",
     "output_type": "stream",
     "text": [
      "Training error: 5.296064213365485, Validation error: 3.143485961213412\n",
      "Save model at round 4 episode 400 with error 3.143485961213412\n",
      "==>current best model is 3.0932506440185987 with ratio 0.5\n",
      "It costs 115.65685224533081s\n"
     ]
    },
    {
     "name": "stderr",
     "output_type": "stream",
     "text": [
      "[450/500]: 100%|████████████████████████████████████████████████████| 50/50 [00:41<00:00,  1.22it/s]\n"
     ]
    },
    {
     "name": "stdout",
     "output_type": "stream",
     "text": [
      "Training error: 4.980012882597746, Validation error: 3.1607305520420765\n",
      "Save model at round 4 episode 450 with error 3.1607305520420765\n",
      "==>current best model is 3.0932506440185987 with ratio 0.5\n",
      "It costs 116.95514726638794s\n"
     ]
    },
    {
     "name": "stderr",
     "output_type": "stream",
     "text": [
      "[500/500]: 100%|████████████████████████████████████████████████████| 50/50 [00:25<00:00,  1.94it/s]\n"
     ]
    },
    {
     "name": "stdout",
     "output_type": "stream",
     "text": [
      "Training error: 5.040455419286806, Validation error: 3.21480046273207\n",
      "Save model at round 4 episode 500 with error 3.21480046273207\n",
      "==>current best model is 3.0932506440185987 with ratio 0.5\n",
      "It costs 105.5524640083313s\n",
      "Training elapsed time = %s 5947.914974451065\n"
     ]
    },
    {
     "data": {
      "image/png": "[encoded data removed]",
      "text/plain": [
       "<Figure size 640x480 with 1 Axes>"
      ]
     },
     "metadata": {},
     "output_type": "display_data"
    },
    {
     "data": {
      "image/png": "[encoded data removed]",
      "text/plain": [
       "<Figure size 640x480 with 1 Axes>"
      ]
     },
     "metadata": {},
     "output_type": "display_data"
    }
   ],
   "source": [
    "train(traj_amount=500, valid_amount=100, Round=5, show_time=50, ratio=0.5, a_size=3, s_size=3, label='sed')"
   ]
  },
  {
   "cell_type": "code",
   "execution_count": 24,
   "metadata": {},
   "outputs": [
    {
     "name": "stdout",
     "output_type": "stream",
     "text": [
      "ERROR! Session/line number was not unique in database. History logging moved to new session 251\n",
      "100\n",
      "1280.86\n",
      "300\n",
      "1577.7466666666667\n"
     ]
    }
   ],
   "source": [
    "import data_utils as F\n",
    "set = []\n",
    "for num in range(500,600):\n",
    "    set.append(F.to_traj('../trajData/Geolife_out/' + str(num)))\n",
    "total = 0\n",
    "for ep in set:\n",
    "    total += len(ep)\n",
    "print(len(set))\n",
    "print(total/len(set))\n",
    "\n",
    "set = []\n",
    "for num in range(17378,17678):\n",
    "    set.append(F.to_traj('../trajData/Geolife_out/' + str(num)))\n",
    "total = 0\n",
    "for ep in set:\n",
    "    total += len(ep)\n",
    "print(len(set))\n",
    "print(total/len(set))"
   ]
  },
  {
   "cell_type": "code",
   "execution_count": 1,
   "metadata": {},
   "outputs": [
    {
     "name": "stdout",
     "output_type": "stream",
     "text": [
      "1406.3926349134517\n"
     ]
    }
   ],
   "source": [
    "import data_utils as F\n",
    "total = 0\n",
    "for num in range(17678):\n",
    "    total += len(F.to_traj('../trajData/Geolife_out/' + str(num)))\n",
    "print(total/17678)"
   ]
  },
  {
   "cell_type": "code",
   "execution_count": 2,
   "metadata": {},
   "outputs": [
    {
     "name": "stdout",
     "output_type": "stream",
     "text": [
      "1342.356\n",
      "1409.329\n",
      "1502.397\n"
     ]
    }
   ],
   "source": [
    "import data_utils as F\n",
    "total = 0\n",
    "for num in range(1000):\n",
    "    total += len(F.to_traj('../trajData/Geolife_out/' + str(num)))\n",
    "print(total/1000)\n",
    "total = 0\n",
    "for num in range(1000,2000):\n",
    "    total += len(F.to_traj('../trajData/Geolife_out/' + str(num)))\n",
    "print(total/1000)\n",
    "total = 0\n",
    "for num in range(2000,3000):\n",
    "    total += len(F.to_traj('../trajData/Geolife_out/' + str(num)))\n",
    "print(total/1000)"
   ]
  },
  {
   "cell_type": "code",
   "execution_count": 5,
   "metadata": {},
   "outputs": [
    {
     "name": "stdout",
     "output_type": "stream",
     "text": [
      "1333.572\n"
     ]
    },
    {
     "data": {
      "image/png": "[encoded data removed]",
      "text/plain": [
       "<Figure size 640x480 with 1 Axes>"
      ]
     },
     "metadata": {},
     "output_type": "display_data"
    }
   ],
   "source": [
    "import data_utils as F\n",
    "import matplotlib.pyplot as plt\n",
    "import numpy as np\n",
    "nums = []\n",
    "for num in range(500):\n",
    "    a = len(F.to_traj('../trajData/Geolife_out/' + str(num)))\n",
    "    nums.append(a)\n",
    "print(sum(nums)/len(nums))\n",
    "plt.hist(x = nums, # 指定绘图数据\n",
    "         bins = 80, # 指定直方图中条块的个数\n",
    "         color = 'steelblue', # 指定直方图的填充色\n",
    "         edgecolor = 'black', # 指定直方图的边框色\n",
    "         )\n",
    "plt.xlabel('point number')\n",
    "plt.ylabel('frequence')\n",
    "plt.show()\n"
   ]
  },
  {
   "cell_type": "code",
   "execution_count": 2,
   "metadata": {},
   "outputs": [
    {
     "data": {
      "image/png": "[encoded data removed]",
      "text/plain": [
       "<Figure size 640x480 with 1 Axes>"
      ]
     },
     "metadata": {},
     "output_type": "display_data"
    }
   ],
   "source": [
    "nums = []\n",
    "for num in range(500, 600):\n",
    "    a = len(F.to_traj('../trajData/Geolife_out/' + str(num)))\n",
    "    nums.append(a)\n",
    "plt.hist(x = nums, # 指定绘图数据\n",
    "         bins = 80, # 指定直方图中条块的个数\n",
    "         color = 'steelblue', # 指定直方图的填充色\n",
    "         edgecolor = 'black', # 指定直方图的边框色\n",
    "         )\n",
    "plt.xlabel('point number')\n",
    "plt.ylabel('frequence')\n",
    "plt.show()"
   ]
  },
  {
   "cell_type": "code",
   "execution_count": 3,
   "metadata": {},
   "outputs": [
    {
     "data": {
      "image/png": "[encoded data removed]",
      "text/plain": [
       "<Figure size 640x480 with 1 Axes>"
      ]
     },
     "metadata": {},
     "output_type": "display_data"
    }
   ],
   "source": [
    "nums = []\n",
    "for num in range(17378,17678):\n",
    "    a = len(F.to_traj('../trajData/Geolife_out/' + str(num)))\n",
    "    nums.append(a)\n",
    "plt.hist(x = nums, # 指定绘图数据\n",
    "         bins = 80, # 指定直方图中条块的个数\n",
    "         color = 'steelblue', # 指定直方图的填充色\n",
    "         edgecolor = 'black', # 指定直方图的边框色\n",
    "         )\n",
    "plt.xlabel('point number')\n",
    "plt.ylabel('frequence')\n",
    "plt.show()"
   ]
  },
  {
   "cell_type": "code",
   "execution_count": 10,
   "metadata": {},
   "outputs": [
    {
     "name": "stdout",
     "output_type": "stream",
     "text": [
      "5900\n"
     ]
    }
   ],
   "source": [
    "import data_utils as F\n",
    "total = 0\n",
    "for num in range(17678):\n",
    "    if len(F.to_traj('../trajData/Geolife_out/' + str(num)))>1000:\n",
    "        total += 1\n",
    "print(total)"
   ]
  },
  {
   "cell_type": "markdown",
   "metadata": {},
   "source": [
    "# evaluate"
   ]
  },
  {
   "cell_type": "code",
   "execution_count": 1,
   "metadata": {},
   "outputs": [],
   "source": [
    "from rl_env_inc import TrajComp\n",
    "from rl_brain import PolicyGradient\n",
    "import data_utils as F\n",
    "import time\n",
    "\n",
    "def evaluate(env, RL, ratio, elist): # Evaluation\n",
    "    eva = []\n",
    "    for episode in elist:\n",
    "        buffer_size = int(ratio*len(env.ori_traj_set[episode]))\n",
    "        if buffer_size < 3:\n",
    "            continue\n",
    "        steps, observation = env.reset(episode, buffer_size)\n",
    "        for index in range(buffer_size, steps):\n",
    "            if index == steps - 1:\n",
    "                done = True\n",
    "            else:\n",
    "                done = False\n",
    "            action = RL.quick_time_action(observation)\n",
    "            observation_, _ = env.step(episode, action, index, done, 'V') #'T' means Training, and 'V' means Validation\n",
    "            observation = observation_\n",
    "        eva.append(env.output(episode, 'V')) #'T' means Training, 'V' means Validation, and 'V-VIS' for visualization on Validation\n",
    "    return sum(eva)/len(eva)\n",
    "\n",
    "def test(model_path, amount, ratio, a_size, s_size, label):\n",
    "    print(\"======Start testing the model at'{}======'\".format(model_path))\n",
    "    traj_path = '../trajData/Geolife_out/'\n",
    "    env = TrajComp(a_size, s_size)\n",
    "    env.load_test_data(traj_path, amount)\n",
    "    env.set_error_type(label)\n",
    "    rl = PolicyGradient(env.n_features, env.n_actions)\n",
    "    rl.load(model_path) #your_trained_model your_trained_model_skip\n",
    "    start = time.time()\n",
    "    effectiveness = evaluate(env, rl, ratio, range(amount))\n",
    "    print(\"Effectiveness: %e\" %effectiveness)\n",
    "    print(\"Training elapsed time = %s\", float(time.time() - start))\n",
    "    return effectiveness    \n",
    "\n",
    "def test_one_sample(model_path, index, ratio, a_size, s_size, label):\n",
    "    print(\"======Start testing the model at'{}======'\".format(model_path))\n",
    "    traj_path = '../trajData/Geolife_out/'\n",
    "    env = TrajComp(a_size, s_size)\n",
    "    env.load_one_sample(traj_path, index)\n",
    "    env.set_error_type(label)\n",
    "    rl = PolicyGradient(env.n_features, env.n_actions)\n",
    "    rl.load(model_path) #your_trained_model your_trained_model_skip\n",
    "    \n",
    "    net_time = 0\n",
    "    step_time = 0\n",
    "    start_ = time.time()\n",
    "    eva = []\n",
    "    buffer_size = int(ratio*len(env.ori_traj_set[0]))\n",
    "    if buffer_size < 3:\n",
    "        return\n",
    "    steps, observation = env.reset(0, buffer_size)\n",
    "    for index in range(buffer_size, steps):\n",
    "        if index == steps - 1:\n",
    "            done = True\n",
    "        else:\n",
    "            done = False\n",
    "        start = time.time()\n",
    "        action = rl.quick_time_action(observation)\n",
    "        net_time += float(time.time()-start)\n",
    "        start = time.time()\n",
    "        observation_, _ = env.step(0, action, index, done, 'V') #'T' means Training, and 'V' means Validation\n",
    "        step_time += float(time.time()-start)\n",
    "        observation = observation_\n",
    "    eva=env.output(0, 'V') #'T' means Training, 'V' means Validation, and 'V-VIS' for visualization on Validation\n",
    "    print(\"Effectiveness: %e\" %eva)\n",
    "    print(\"Training elapsed time = %s\", float(time.time() - start_))\n",
    "    print(\"net_time:\",net_time)\n",
    "    print(\"step_time:\",step_time)   \n",
    "\n",
    "def evaluate_skip(elist):\n",
    "    effectiveness = []\n",
    "    total_len = []\n",
    "    skip_pts = 0\n",
    "    step_pts = 0\n",
    "    for episode in elist:\n",
    "        #print('online episode', episode)\n",
    "        total_len.append(len(env.ori_traj_set[episode]))\n",
    "        buffer_size = int(ratio*len(env.ori_traj_set[episode]))\n",
    "        if buffer_size < 3:\n",
    "            continue\n",
    "        steps, observation = env.reset(episode, buffer_size)\n",
    "        step_pts = step_pts + steps\n",
    "        for index in range(buffer_size, steps):\n",
    "            if index == steps - 1:\n",
    "                done = True\n",
    "            else:\n",
    "                done = False\n",
    "            if index < env.INX:\n",
    "                #print('test skip')\n",
    "                skip_pts = skip_pts + 1\n",
    "                continue\n",
    "            action = RL.quick_time_action(observation) #matrix implementation for fast efficiency when the model is ready\n",
    "            observation_, _ = env.step(episode, action, index, done, 'V') #'T' means Training, and 'V' means Validation\n",
    "            observation = observation_\n",
    "        effectiveness.append(env.output(episode, 'V')) #'T' means Training, 'V' means Validation, and 'V-VIS' for visualization on Validation\n",
    "    return sum(effectiveness)/len(effectiveness)\n"
   ]
  },
  {
   "cell_type": "markdown",
   "metadata": {},
   "source": [
    "## dad"
   ]
  },
  {
   "cell_type": "code",
   "execution_count": 9,
   "metadata": {
    "scrolled": true
   },
   "outputs": [
    {
     "name": "stdout",
     "output_type": "stream",
     "text": [
      "======Start testing the model at'save/1.8379519265790878_ratio_0.1_dad/======'\n",
      "training from last checkpoint save/1.8379519265790878_ratio_0.1_dad/\n",
      "INFO:tensorflow:Restoring parameters from save/1.8379519265790878_ratio_0.1_dad/trained_model.ckpt\n",
      "Effectiveness: 1.852766e+01\n",
      "Training elapsed time = %s 1.3568031787872314\n",
      "net_time: 0.5182600021362305\n",
      "step_time: 0.755854606628418\n"
     ]
    }
   ],
   "source": [
    "test_one_sample(model_path='save/1.8379519265790878_ratio_0.1_dad/', index=106, ratio=0.1, a_size=3, s_size=3, label='sed')"
   ]
  },
  {
   "cell_type": "code",
   "execution_count": 6,
   "metadata": {},
   "outputs": [
    {
     "name": "stdout",
     "output_type": "stream",
     "text": [
      "======Start testing the model at'save/1.8379519265790878_ratio_0.1_dad/======'\n",
      "training from last checkpoint save/1.8379519265790878_ratio_0.1_dad/\n",
      "INFO:tensorflow:Restoring parameters from save/1.8379519265790878_ratio_0.1_dad/trained_model.ckpt\n",
      "Effectiveness: 1.896389e+00\n",
      "Training elapsed time = %s 46.71492886543274\n"
     ]
    },
    {
     "data": {
      "text/plain": [
       "1.8963889073810174"
      ]
     },
     "execution_count": 6,
     "metadata": {},
     "output_type": "execute_result"
    }
   ],
   "source": [
    "test(model_path='save/1.8379519265790878_ratio_0.1_dad/', amount=300, ratio=0.1, a_size=3, s_size=3, label='dad')"
   ]
  },
  {
   "cell_type": "code",
   "execution_count": 7,
   "metadata": {},
   "outputs": [
    {
     "name": "stdout",
     "output_type": "stream",
     "text": [
      "======Start testing the model at'save/1.8379519265790878_ratio_0.1_dad/======'\n",
      "training from last checkpoint save/1.8379519265790878_ratio_0.1_dad/\n",
      "INFO:tensorflow:Restoring parameters from save/1.8379519265790878_ratio_0.1_dad/trained_model.ckpt\n",
      "Effectiveness: 1.269468e+02\n",
      "Training elapsed time = %s 64.6348226070404\n"
     ]
    },
    {
     "data": {
      "text/plain": [
       "126.94682896785535"
      ]
     },
     "execution_count": 7,
     "metadata": {},
     "output_type": "execute_result"
    }
   ],
   "source": [
    "test(model_path='save/1.8379519265790878_ratio_0.1_dad/', amount=300, ratio=0.1, a_size=3, s_size=3, label='sed')"
   ]
  },
  {
   "cell_type": "code",
   "execution_count": 8,
   "metadata": {},
   "outputs": [
    {
     "name": "stdout",
     "output_type": "stream",
     "text": [
      "======Start testing the model at'save/1.8379519265790878_ratio_0.1_dad/======'\n",
      "training from last checkpoint save/1.8379519265790878_ratio_0.1_dad/\n",
      "INFO:tensorflow:Restoring parameters from save/1.8379519265790878_ratio_0.1_dad/trained_model.ckpt\n",
      "Effectiveness: 4.145863e+01\n",
      "Training elapsed time = %s 46.13323950767517\n"
     ]
    },
    {
     "data": {
      "text/plain": [
       "41.45862841834385"
      ]
     },
     "execution_count": 8,
     "metadata": {},
     "output_type": "execute_result"
    }
   ],
   "source": [
    "test(model_path='save/1.8379519265790878_ratio_0.1_dad/', amount=300, ratio=0.1, a_size=3, s_size=3, label='ped')"
   ]
  },
  {
   "cell_type": "code",
   "execution_count": 9,
   "metadata": {},
   "outputs": [
    {
     "name": "stdout",
     "output_type": "stream",
     "text": [
      "======Start testing the model at'save/1.8379519265790878_ratio_0.1_dad/======'\n",
      "training from last checkpoint save/1.8379519265790878_ratio_0.1_dad/\n",
      "INFO:tensorflow:Restoring parameters from save/1.8379519265790878_ratio_0.1_dad/trained_model.ckpt\n",
      "Effectiveness: 7.432840e+00\n",
      "Training elapsed time = %s 109.36643648147583\n"
     ]
    },
    {
     "data": {
      "text/plain": [
       "7.432839853108051"
      ]
     },
     "execution_count": 9,
     "metadata": {},
     "output_type": "execute_result"
    }
   ],
   "source": [
    "test(model_path='save/1.8379519265790878_ratio_0.1_dad/', amount=300, ratio=0.1, a_size=3, s_size=3, label='sad')"
   ]
  },
  {
   "cell_type": "code",
   "execution_count": 10,
   "metadata": {},
   "outputs": [
    {
     "name": "stdout",
     "output_type": "stream",
     "text": [
      "======Start testing the model at'save/1.8379519265790878_ratio_0.1_dad/======'\n",
      "training from last checkpoint save/1.8379519265790878_ratio_0.1_dad/\n",
      "INFO:tensorflow:Restoring parameters from save/1.8379519265790878_ratio_0.1_dad/trained_model.ckpt\n",
      "Effectiveness: 1.081923e+00\n",
      "Training elapsed time = %s 43.76492261886597\n"
     ]
    },
    {
     "data": {
      "text/plain": [
       "1.0819230379935447"
      ]
     },
     "execution_count": 10,
     "metadata": {},
     "output_type": "execute_result"
    }
   ],
   "source": [
    "test(model_path='save/1.8379519265790878_ratio_0.1_dad/', amount=300, ratio=0.2, a_size=3, s_size=3, label='dad')"
   ]
  },
  {
   "cell_type": "code",
   "execution_count": 11,
   "metadata": {},
   "outputs": [
    {
     "name": "stdout",
     "output_type": "stream",
     "text": [
      "======Start testing the model at'save/1.8379519265790878_ratio_0.1_dad/======'\n",
      "training from last checkpoint save/1.8379519265790878_ratio_0.1_dad/\n",
      "INFO:tensorflow:Restoring parameters from save/1.8379519265790878_ratio_0.1_dad/trained_model.ckpt\n",
      "Effectiveness: 6.415240e-01\n",
      "Training elapsed time = %s 39.83200240135193\n"
     ]
    },
    {
     "data": {
      "text/plain": [
       "0.6415240358513159"
      ]
     },
     "execution_count": 11,
     "metadata": {},
     "output_type": "execute_result"
    }
   ],
   "source": [
    "test(model_path='save/1.8379519265790878_ratio_0.1_dad/', amount=300, ratio=0.3, a_size=3, s_size=3, label='dad')"
   ]
  },
  {
   "cell_type": "code",
   "execution_count": 12,
   "metadata": {},
   "outputs": [
    {
     "name": "stdout",
     "output_type": "stream",
     "text": [
      "======Start testing the model at'save/1.8379519265790878_ratio_0.1_dad/======'\n",
      "training from last checkpoint save/1.8379519265790878_ratio_0.1_dad/\n",
      "INFO:tensorflow:Restoring parameters from save/1.8379519265790878_ratio_0.1_dad/trained_model.ckpt\n",
      "Effectiveness: 4.173001e-01\n",
      "Training elapsed time = %s 35.71012759208679\n"
     ]
    },
    {
     "data": {
      "text/plain": [
       "0.41730008217698467"
      ]
     },
     "execution_count": 12,
     "metadata": {},
     "output_type": "execute_result"
    }
   ],
   "source": [
    "test(model_path='save/1.8379519265790878_ratio_0.1_dad/', amount=300, ratio=0.4, a_size=3, s_size=3, label='dad')"
   ]
  },
  {
   "cell_type": "code",
   "execution_count": 13,
   "metadata": {},
   "outputs": [
    {
     "name": "stdout",
     "output_type": "stream",
     "text": [
      "======Start testing the model at'save/1.8379519265790878_ratio_0.1_dad/======'\n",
      "training from last checkpoint save/1.8379519265790878_ratio_0.1_dad/\n",
      "INFO:tensorflow:Restoring parameters from save/1.8379519265790878_ratio_0.1_dad/trained_model.ckpt\n",
      "Effectiveness: 2.703424e-01\n",
      "Training elapsed time = %s 30.320857048034668\n"
     ]
    },
    {
     "data": {
      "text/plain": [
       "0.27034243999252594"
      ]
     },
     "execution_count": 13,
     "metadata": {},
     "output_type": "execute_result"
    }
   ],
   "source": [
    "test(model_path='save/1.8379519265790878_ratio_0.1_dad/', amount=300, ratio=0.5, a_size=3, s_size=3, label='dad')"
   ]
  },
  {
   "cell_type": "markdown",
   "metadata": {},
   "source": [
    "## sad"
   ]
  },
  {
   "cell_type": "code",
   "execution_count": 7,
   "metadata": {},
   "outputs": [
    {
     "name": "stdout",
     "output_type": "stream",
     "text": [
      "======Start testing the model at'save/6.71273141708931_ratio_0.1_sad/======'\n",
      "training from last checkpoint save/6.71273141708931_ratio_0.1_sad/\n",
      "INFO:tensorflow:Restoring parameters from save/6.71273141708931_ratio_0.1_sad/trained_model.ckpt\n"
     ]
    },
    {
     "name": "stderr",
     "output_type": "stream",
     "text": [
      "INFO:tensorflow:Restoring parameters from save/6.71273141708931_ratio_0.1_sad/trained_model.ckpt\n"
     ]
    },
    {
     "name": "stdout",
     "output_type": "stream",
     "text": [
      "Effectiveness: 7.674915e+00\n",
      "Training elapsed time = %s 109.12847685813904\n"
     ]
    },
    {
     "data": {
      "text/plain": [
       "7.674915133340574"
      ]
     },
     "execution_count": 7,
     "metadata": {},
     "output_type": "execute_result"
    }
   ],
   "source": [
    "test(model_path='save/6.71273141708931_ratio_0.1_sad/', amount=300, ratio=0.1, a_size=3, s_size=3, label='sad')"
   ]
  },
  {
   "cell_type": "code",
   "execution_count": 8,
   "metadata": {},
   "outputs": [
    {
     "name": "stdout",
     "output_type": "stream",
     "text": [
      "======Start testing the model at'save/6.71273141708931_ratio_0.1_sad/======'\n",
      "training from last checkpoint save/6.71273141708931_ratio_0.1_sad/\n",
      "INFO:tensorflow:Restoring parameters from save/6.71273141708931_ratio_0.1_sad/trained_model.ckpt\n"
     ]
    },
    {
     "name": "stderr",
     "output_type": "stream",
     "text": [
      "INFO:tensorflow:Restoring parameters from save/6.71273141708931_ratio_0.1_sad/trained_model.ckpt\n"
     ]
    },
    {
     "name": "stdout",
     "output_type": "stream",
     "text": [
      "Effectiveness: 3.787236e+00\n",
      "Training elapsed time = %s 101.85812330245972\n"
     ]
    },
    {
     "data": {
      "text/plain": [
       "3.787235532701524"
      ]
     },
     "execution_count": 8,
     "metadata": {},
     "output_type": "execute_result"
    }
   ],
   "source": [
    "test(model_path='save/6.71273141708931_ratio_0.1_sad/', amount=300, ratio=0.2, a_size=3, s_size=3, label='sad')"
   ]
  },
  {
   "cell_type": "code",
   "execution_count": 9,
   "metadata": {},
   "outputs": [
    {
     "name": "stdout",
     "output_type": "stream",
     "text": [
      "======Start testing the model at'save/6.71273141708931_ratio_0.1_sad/======'\n",
      "training from last checkpoint save/6.71273141708931_ratio_0.1_sad/\n",
      "INFO:tensorflow:Restoring parameters from save/6.71273141708931_ratio_0.1_sad/trained_model.ckpt\n"
     ]
    },
    {
     "name": "stderr",
     "output_type": "stream",
     "text": [
      "INFO:tensorflow:Restoring parameters from save/6.71273141708931_ratio_0.1_sad/trained_model.ckpt\n"
     ]
    },
    {
     "name": "stdout",
     "output_type": "stream",
     "text": [
      "Effectiveness: 2.474755e+00\n",
      "Training elapsed time = %s 93.29799270629883\n"
     ]
    },
    {
     "data": {
      "text/plain": [
       "2.474754841210004"
      ]
     },
     "execution_count": 9,
     "metadata": {},
     "output_type": "execute_result"
    }
   ],
   "source": [
    "test(model_path='save/6.71273141708931_ratio_0.1_sad/', amount=300, ratio=0.3, a_size=3, s_size=3, label='sad')"
   ]
  },
  {
   "cell_type": "code",
   "execution_count": 10,
   "metadata": {},
   "outputs": [
    {
     "name": "stdout",
     "output_type": "stream",
     "text": [
      "======Start testing the model at'save/6.71273141708931_ratio_0.1_sad/======'\n",
      "training from last checkpoint save/6.71273141708931_ratio_0.1_sad/\n",
      "INFO:tensorflow:Restoring parameters from save/6.71273141708931_ratio_0.1_sad/trained_model.ckpt\n"
     ]
    },
    {
     "name": "stderr",
     "output_type": "stream",
     "text": [
      "INFO:tensorflow:Restoring parameters from save/6.71273141708931_ratio_0.1_sad/trained_model.ckpt\n"
     ]
    },
    {
     "name": "stdout",
     "output_type": "stream",
     "text": [
      "Effectiveness: 1.759241e+00\n",
      "Training elapsed time = %s 83.56575417518616\n"
     ]
    },
    {
     "data": {
      "text/plain": [
       "1.7592413934886861"
      ]
     },
     "execution_count": 10,
     "metadata": {},
     "output_type": "execute_result"
    }
   ],
   "source": [
    "test(model_path='save/6.71273141708931_ratio_0.1_sad/', amount=300, ratio=0.4, a_size=3, s_size=3, label='sad')"
   ]
  },
  {
   "cell_type": "code",
   "execution_count": 11,
   "metadata": {},
   "outputs": [
    {
     "name": "stdout",
     "output_type": "stream",
     "text": [
      "======Start testing the model at'save/6.71273141708931_ratio_0.1_sad/======'\n",
      "training from last checkpoint save/6.71273141708931_ratio_0.1_sad/\n",
      "INFO:tensorflow:Restoring parameters from save/6.71273141708931_ratio_0.1_sad/trained_model.ckpt\n"
     ]
    },
    {
     "name": "stderr",
     "output_type": "stream",
     "text": [
      "INFO:tensorflow:Restoring parameters from save/6.71273141708931_ratio_0.1_sad/trained_model.ckpt\n"
     ]
    },
    {
     "name": "stdout",
     "output_type": "stream",
     "text": [
      "Effectiveness: 1.297253e+00\n",
      "Training elapsed time = %s 76.29723834991455\n"
     ]
    },
    {
     "data": {
      "text/plain": [
       "1.2972527704549885"
      ]
     },
     "execution_count": 11,
     "metadata": {},
     "output_type": "execute_result"
    }
   ],
   "source": [
    "test(model_path='save/6.71273141708931_ratio_0.1_sad/', amount=300, ratio=0.5, a_size=3, s_size=3, label='sad')"
   ]
  },
  {
   "cell_type": "code",
   "execution_count": 12,
   "metadata": {},
   "outputs": [
    {
     "name": "stdout",
     "output_type": "stream",
     "text": [
      "======Start testing the model at'save/6.71273141708931_ratio_0.1_sad/======'\n",
      "training from last checkpoint save/6.71273141708931_ratio_0.1_sad/\n",
      "INFO:tensorflow:Restoring parameters from save/6.71273141708931_ratio_0.1_sad/trained_model.ckpt\n"
     ]
    },
    {
     "name": "stderr",
     "output_type": "stream",
     "text": [
      "INFO:tensorflow:Restoring parameters from save/6.71273141708931_ratio_0.1_sad/trained_model.ckpt\n"
     ]
    },
    {
     "name": "stdout",
     "output_type": "stream",
     "text": [
      "Effectiveness: 1.289616e+02\n",
      "Training elapsed time = %s 64.18546319007874\n"
     ]
    },
    {
     "data": {
      "text/plain": [
       "128.9616206502359"
      ]
     },
     "execution_count": 12,
     "metadata": {},
     "output_type": "execute_result"
    }
   ],
   "source": [
    "test(model_path='save/6.71273141708931_ratio_0.1_sad/', amount=300, ratio=0.1, a_size=3, s_size=3, label='sed')"
   ]
  },
  {
   "cell_type": "code",
   "execution_count": 13,
   "metadata": {},
   "outputs": [
    {
     "name": "stdout",
     "output_type": "stream",
     "text": [
      "======Start testing the model at'save/6.71273141708931_ratio_0.1_sad/======'\n",
      "training from last checkpoint save/6.71273141708931_ratio_0.1_sad/\n",
      "INFO:tensorflow:Restoring parameters from save/6.71273141708931_ratio_0.1_sad/trained_model.ckpt\n"
     ]
    },
    {
     "name": "stderr",
     "output_type": "stream",
     "text": [
      "INFO:tensorflow:Restoring parameters from save/6.71273141708931_ratio_0.1_sad/trained_model.ckpt\n"
     ]
    },
    {
     "name": "stdout",
     "output_type": "stream",
     "text": [
      "Effectiveness: 4.427690e+01\n",
      "Training elapsed time = %s 46.97338318824768\n"
     ]
    },
    {
     "data": {
      "text/plain": [
       "44.276902705679845"
      ]
     },
     "execution_count": 13,
     "metadata": {},
     "output_type": "execute_result"
    }
   ],
   "source": [
    "test(model_path='save/6.71273141708931_ratio_0.1_sad/', amount=300, ratio=0.1, a_size=3, s_size=3, label='ped')"
   ]
  },
  {
   "cell_type": "code",
   "execution_count": 14,
   "metadata": {},
   "outputs": [
    {
     "name": "stdout",
     "output_type": "stream",
     "text": [
      "======Start testing the model at'save/6.71273141708931_ratio_0.1_sad/======'\n",
      "training from last checkpoint save/6.71273141708931_ratio_0.1_sad/\n",
      "INFO:tensorflow:Restoring parameters from save/6.71273141708931_ratio_0.1_sad/trained_model.ckpt\n"
     ]
    },
    {
     "name": "stderr",
     "output_type": "stream",
     "text": [
      "INFO:tensorflow:Restoring parameters from save/6.71273141708931_ratio_0.1_sad/trained_model.ckpt\n"
     ]
    },
    {
     "name": "stdout",
     "output_type": "stream",
     "text": [
      "Effectiveness: 1.912863e+00\n",
      "Training elapsed time = %s 46.94707632064819\n"
     ]
    },
    {
     "data": {
      "text/plain": [
       "1.9128631008661197"
      ]
     },
     "execution_count": 14,
     "metadata": {},
     "output_type": "execute_result"
    }
   ],
   "source": [
    "test(model_path='save/6.71273141708931_ratio_0.1_sad/', amount=300, ratio=0.1, a_size=3, s_size=3, label='dad')"
   ]
  },
  {
   "cell_type": "markdown",
   "metadata": {},
   "source": [
    "## ped"
   ]
  },
  {
   "cell_type": "code",
   "execution_count": 15,
   "metadata": {},
   "outputs": [
    {
     "name": "stdout",
     "output_type": "stream",
     "text": [
      "======Start testing the model at'save/17.57928306848788_ratio_0.1_ped/======'\n",
      "training from last checkpoint save/17.57928306848788_ratio_0.1_ped/\n",
      "INFO:tensorflow:Restoring parameters from save/17.57928306848788_ratio_0.1_ped/trained_model.ckpt\n"
     ]
    },
    {
     "name": "stderr",
     "output_type": "stream",
     "text": [
      "INFO:tensorflow:Restoring parameters from save/17.57928306848788_ratio_0.1_ped/trained_model.ckpt\n"
     ]
    },
    {
     "name": "stdout",
     "output_type": "stream",
     "text": [
      "Effectiveness: 2.923345e+01\n",
      "Training elapsed time = %s 44.91606783866882\n"
     ]
    },
    {
     "data": {
      "text/plain": [
       "29.233447322225164"
      ]
     },
     "execution_count": 15,
     "metadata": {},
     "output_type": "execute_result"
    }
   ],
   "source": [
    "test(model_path='save/17.57928306848788_ratio_0.1_ped/', amount=300, ratio=0.1, a_size=3, s_size=3, label='ped')"
   ]
  },
  {
   "cell_type": "code",
   "execution_count": 16,
   "metadata": {},
   "outputs": [
    {
     "name": "stdout",
     "output_type": "stream",
     "text": [
      "======Start testing the model at'save/17.57928306848788_ratio_0.1_ped/======'\n",
      "training from last checkpoint save/17.57928306848788_ratio_0.1_ped/\n",
      "INFO:tensorflow:Restoring parameters from save/17.57928306848788_ratio_0.1_ped/trained_model.ckpt\n"
     ]
    },
    {
     "name": "stderr",
     "output_type": "stream",
     "text": [
      "INFO:tensorflow:Restoring parameters from save/17.57928306848788_ratio_0.1_ped/trained_model.ckpt\n"
     ]
    },
    {
     "name": "stdout",
     "output_type": "stream",
     "text": [
      "Effectiveness: 9.871220e+00\n",
      "Training elapsed time = %s 45.54092264175415\n"
     ]
    },
    {
     "data": {
      "text/plain": [
       "9.871220417632905"
      ]
     },
     "execution_count": 16,
     "metadata": {},
     "output_type": "execute_result"
    }
   ],
   "source": [
    "test(model_path='save/17.57928306848788_ratio_0.1_ped/', amount=300, ratio=0.2, a_size=3, s_size=3, label='ped')"
   ]
  },
  {
   "cell_type": "code",
   "execution_count": 18,
   "metadata": {},
   "outputs": [
    {
     "name": "stdout",
     "output_type": "stream",
     "text": [
      "======Start testing the model at'save/17.57928306848788_ratio_0.1_ped/======'\n",
      "training from last checkpoint save/17.57928306848788_ratio_0.1_ped/\n",
      "INFO:tensorflow:Restoring parameters from save/17.57928306848788_ratio_0.1_ped/trained_model.ckpt\n"
     ]
    },
    {
     "name": "stderr",
     "output_type": "stream",
     "text": [
      "INFO:tensorflow:Restoring parameters from save/17.57928306848788_ratio_0.1_ped/trained_model.ckpt\n"
     ]
    },
    {
     "name": "stdout",
     "output_type": "stream",
     "text": [
      "Effectiveness: 4.936299e+00\n",
      "Training elapsed time = %s 39.83397459983826\n"
     ]
    },
    {
     "data": {
      "text/plain": [
       "4.936299189702654"
      ]
     },
     "execution_count": 18,
     "metadata": {},
     "output_type": "execute_result"
    }
   ],
   "source": [
    "test(model_path='save/17.57928306848788_ratio_0.1_ped/', amount=300, ratio=0.3, a_size=3, s_size=3, label='ped')"
   ]
  },
  {
   "cell_type": "code",
   "execution_count": 19,
   "metadata": {},
   "outputs": [
    {
     "name": "stdout",
     "output_type": "stream",
     "text": [
      "======Start testing the model at'save/17.57928306848788_ratio_0.1_ped/======'\n",
      "training from last checkpoint save/17.57928306848788_ratio_0.1_ped/\n",
      "INFO:tensorflow:Restoring parameters from save/17.57928306848788_ratio_0.1_ped/trained_model.ckpt\n"
     ]
    },
    {
     "name": "stderr",
     "output_type": "stream",
     "text": [
      "INFO:tensorflow:Restoring parameters from save/17.57928306848788_ratio_0.1_ped/trained_model.ckpt\n"
     ]
    },
    {
     "name": "stdout",
     "output_type": "stream",
     "text": [
      "Effectiveness: 3.028918e+00\n",
      "Training elapsed time = %s 34.800211668014526\n"
     ]
    },
    {
     "data": {
      "text/plain": [
       "3.0289177446258693"
      ]
     },
     "execution_count": 19,
     "metadata": {},
     "output_type": "execute_result"
    }
   ],
   "source": [
    "test(model_path='save/17.57928306848788_ratio_0.1_ped/', amount=300, ratio=0.4, a_size=3, s_size=3, label='ped')"
   ]
  },
  {
   "cell_type": "code",
   "execution_count": 20,
   "metadata": {},
   "outputs": [
    {
     "name": "stdout",
     "output_type": "stream",
     "text": [
      "======Start testing the model at'save/17.57928306848788_ratio_0.1_ped/======'\n",
      "training from last checkpoint save/17.57928306848788_ratio_0.1_ped/\n",
      "INFO:tensorflow:Restoring parameters from save/17.57928306848788_ratio_0.1_ped/trained_model.ckpt\n"
     ]
    },
    {
     "name": "stderr",
     "output_type": "stream",
     "text": [
      "INFO:tensorflow:Restoring parameters from save/17.57928306848788_ratio_0.1_ped/trained_model.ckpt\n"
     ]
    },
    {
     "name": "stdout",
     "output_type": "stream",
     "text": [
      "Effectiveness: 1.919906e+00\n",
      "Training elapsed time = %s 29.391144275665283\n"
     ]
    },
    {
     "data": {
      "text/plain": [
       "1.9199062707477288"
      ]
     },
     "execution_count": 20,
     "metadata": {},
     "output_type": "execute_result"
    }
   ],
   "source": [
    "test(model_path='save/17.57928306848788_ratio_0.1_ped/', amount=300, ratio=0.5, a_size=3, s_size=3, label='ped')"
   ]
  },
  {
   "cell_type": "code",
   "execution_count": 21,
   "metadata": {},
   "outputs": [
    {
     "name": "stdout",
     "output_type": "stream",
     "text": [
      "======Start testing the model at'save/17.57928306848788_ratio_0.1_ped/======'\n",
      "training from last checkpoint save/17.57928306848788_ratio_0.1_ped/\n",
      "INFO:tensorflow:Restoring parameters from save/17.57928306848788_ratio_0.1_ped/trained_model.ckpt\n"
     ]
    },
    {
     "name": "stderr",
     "output_type": "stream",
     "text": [
      "INFO:tensorflow:Restoring parameters from save/17.57928306848788_ratio_0.1_ped/trained_model.ckpt\n"
     ]
    },
    {
     "name": "stdout",
     "output_type": "stream",
     "text": [
      "Effectiveness: 7.286864e+01\n",
      "Training elapsed time = %s 60.78257441520691\n"
     ]
    },
    {
     "data": {
      "text/plain": [
       "72.86863813691228"
      ]
     },
     "execution_count": 21,
     "metadata": {},
     "output_type": "execute_result"
    }
   ],
   "source": [
    "test(model_path='save/17.57928306848788_ratio_0.1_ped/', amount=300, ratio=0.1, a_size=3, s_size=3, label='sed')"
   ]
  },
  {
   "cell_type": "code",
   "execution_count": 22,
   "metadata": {},
   "outputs": [
    {
     "name": "stdout",
     "output_type": "stream",
     "text": [
      "======Start testing the model at'save/17.57928306848788_ratio_0.1_ped/======'\n",
      "training from last checkpoint save/17.57928306848788_ratio_0.1_ped/\n",
      "INFO:tensorflow:Restoring parameters from save/17.57928306848788_ratio_0.1_ped/trained_model.ckpt\n"
     ]
    },
    {
     "name": "stderr",
     "output_type": "stream",
     "text": [
      "INFO:tensorflow:Restoring parameters from save/17.57928306848788_ratio_0.1_ped/trained_model.ckpt\n"
     ]
    },
    {
     "name": "stdout",
     "output_type": "stream",
     "text": [
      "Effectiveness: 1.872669e+00\n",
      "Training elapsed time = %s 45.93737816810608\n"
     ]
    },
    {
     "data": {
      "text/plain": [
       "1.8726687134625213"
      ]
     },
     "execution_count": 22,
     "metadata": {},
     "output_type": "execute_result"
    }
   ],
   "source": [
    "test(model_path='save/17.57928306848788_ratio_0.1_ped/', amount=300, ratio=0.1, a_size=3, s_size=3, label='dad')"
   ]
  },
  {
   "cell_type": "code",
   "execution_count": 23,
   "metadata": {},
   "outputs": [
    {
     "name": "stdout",
     "output_type": "stream",
     "text": [
      "======Start testing the model at'save/17.57928306848788_ratio_0.1_ped/======'\n",
      "training from last checkpoint save/17.57928306848788_ratio_0.1_ped/\n",
      "INFO:tensorflow:Restoring parameters from save/17.57928306848788_ratio_0.1_ped/trained_model.ckpt\n"
     ]
    },
    {
     "name": "stderr",
     "output_type": "stream",
     "text": [
      "INFO:tensorflow:Restoring parameters from save/17.57928306848788_ratio_0.1_ped/trained_model.ckpt\n"
     ]
    },
    {
     "name": "stdout",
     "output_type": "stream",
     "text": [
      "Effectiveness: 7.045368e+00\n",
      "Training elapsed time = %s 104.78582882881165\n"
     ]
    },
    {
     "data": {
      "text/plain": [
       "7.045367967254376"
      ]
     },
     "execution_count": 23,
     "metadata": {},
     "output_type": "execute_result"
    }
   ],
   "source": [
    "test(model_path='save/17.57928306848788_ratio_0.1_ped/', amount=300, ratio=0.1, a_size=3, s_size=3, label='sad')"
   ]
  },
  {
   "cell_type": "code",
   "execution_count": null,
   "metadata": {},
   "outputs": [],
   "source": []
  }
 ],
 "metadata": {
  "kernelspec": {
   "display_name": "Python [conda env:tensorflow1_gpu]",
   "language": "python",
   "name": "conda-env-tensorflow1_gpu-py"
  },
  "language_info": {
   "codemirror_mode": {
    "name": "ipython",
    "version": 3
   },
   "file_extension": ".py",
   "mimetype": "text/x-python",
   "name": "python",
   "nbconvert_exporter": "python",
   "pygments_lexer": "ipython3",
   "version": "3.7.16"
  }
 },
 "nbformat": 4,
 "nbformat_minor": 2
}
